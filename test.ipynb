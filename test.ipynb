{
 "cells": [
  {
   "cell_type": "markdown",
   "metadata": {},
   "source": [
    "### Importing Datas"
   ]
  },
  {
   "cell_type": "code",
   "execution_count": 10,
   "metadata": {},
   "outputs": [],
   "source": [
    "from kmer_counting import rna_strand_list_to_matrix, sequence2matrix\n",
    "import numpy as np \n",
    "import pandas as pd\n",
    "from Bio import SeqIO\n",
    "import os"
   ]
  },
  {
   "cell_type": "code",
   "execution_count": 11,
   "metadata": {},
   "outputs": [
    {
     "data": {
      "text/plain": [
       "(32914, 47589)"
      ]
     },
     "execution_count": 11,
     "metadata": {},
     "output_type": "execute_result"
    }
   ],
   "source": [
    "circ_rna_path = \"dataset/circRNA_fasta\"\n",
    "circ_rna_seq = [str(i.seq) for i in list(SeqIO.parse(circ_rna_path, \"fasta\"))]\n",
    "non_circ_rna_path = \"dataset/noncircRNA.fa\"\n",
    "non_circ_rna_path = [str(i.seq) for i in list(SeqIO.parse(non_circ_rna_path, \"fasta\"))]\n",
    "len(circ_rna_seq), len(non_circ_rna_path)"
   ]
  },
  {
   "cell_type": "code",
   "execution_count": 12,
   "metadata": {},
   "outputs": [],
   "source": [
    "def convert_to_vector(list_seq, file_path):\n",
    "    converter = sequence2matrix()\n",
    "    seq = [i[\"sequence\"] for i in list_seq]\n",
    "    matrix = converter.fit(seq, save_dir=file_path)\n",
    "    for i,j in zip(matrix,list_seq):\n",
    "        j[\"vector\"] = i\n",
    "    return list_seq"
   ]
  },
  {
   "cell_type": "code",
   "execution_count": 13,
   "metadata": {},
   "outputs": [
    {
     "data": {
      "text/plain": [
       "80503"
      ]
     },
     "execution_count": 13,
     "metadata": {},
     "output_type": "execute_result"
    }
   ],
   "source": [
    "all_data = [{\"sequence\":i,\n",
    "             \"label\":\"circ_rna\"} for i in circ_rna_seq]\n",
    "[all_data.append({\"sequence\":i,\"label\":\"non_circ_rna\"}) for i in non_circ_rna_path]\n",
    "len(all_data)"
   ]
  },
  {
   "cell_type": "code",
   "execution_count": 14,
   "metadata": {},
   "outputs": [],
   "source": [
    "matrix = convert_to_vector(all_data, \"dataset/data\")\n",
    "np.save(\"dataset/all_data\", matrix)"
   ]
  },
  {
   "cell_type": "markdown",
   "metadata": {},
   "source": [
    "### Preprocessing Data"
   ]
  },
  {
   "cell_type": "code",
   "execution_count": 15,
   "metadata": {},
   "outputs": [],
   "source": [
    "import math\n",
    "from typing import List\n",
    "import copy\n",
    "import numpy as np\n",
    "import matplotlib.pyplot as plt\n",
    "import tqdm\n",
    "from multiprocessing import Pool\n",
    "import multiprocessing"
   ]
  },
  {
   "cell_type": "code",
   "execution_count": 16,
   "metadata": {},
   "outputs": [
    {
     "data": {
      "text/plain": [
       "(dtype('float64'), (80303, 256))"
      ]
     },
     "execution_count": 16,
     "metadata": {},
     "output_type": "execute_result"
    }
   ],
   "source": [
    "# load data\n",
    "X = np.array([[*i[\"vector\"].values()] for i in np.load(\"dataset/all_data.npy\", allow_pickle=True) if i[\"vector\"] != 0])\n",
    "X = X.astype(\"float64\")\n",
    "X.dtype, X.shape"
   ]
  },
  {
   "cell_type": "code",
   "execution_count": 17,
   "metadata": {},
   "outputs": [],
   "source": [
    "def gauss(x:float, sigma:float):\n",
    "    #print(math.exp(-0.5*x*x/(sigma*sigma))/(sigma*math.sqrt(2*math.pi)))\n",
    "    return math.exp(-0.5*x*x/(sigma*sigma))/(sigma*math.sqrt(2*math.pi))"
   ]
  },
  {
   "cell_type": "code",
   "execution_count": 18,
   "metadata": {},
   "outputs": [],
   "source": [
    "def gaussian_blur(vector:List[str], kernel_size:int=5,sigma:float=1):\n",
    "    vector_length = len(vector)\n",
    "    kernel_size = int(0.1*vector_length)\n",
    "    new_vector = copy.deepcopy(vector)\n",
    "    for i in range(vector_length):\n",
    "        new_value = 0\n",
    "        for j in range(max(0, i-kernel_size), min(vector_length,i+kernel_size)):\n",
    "            new_value += gauss(j-i, sigma)*new_vector[j]\n",
    "        new_vector[i] = new_value/(min(vector_length,i+vector_length)-max(0, i-vector_length))\n",
    "    return new_vector"
   ]
  },
  {
   "cell_type": "code",
   "execution_count": 19,
   "metadata": {},
   "outputs": [
    {
     "name": "stderr",
     "output_type": "stream",
     "text": [
      "  0%|          | 21/80303 [00:00<06:39, 200.92it/s]"
     ]
    },
    {
     "name": "stderr",
     "output_type": "stream",
     "text": [
      "100%|██████████| 80303/80303 [06:07<00:00, 218.74it/s]\n"
     ]
    }
   ],
   "source": [
    "np.save(\"dataset/processed_data\", [gaussian_blur(vector) for vector in tqdm.tqdm(X)])"
   ]
  },
  {
   "cell_type": "markdown",
   "metadata": {},
   "source": [
    "### Data Load Splitting"
   ]
  },
  {
   "cell_type": "code",
   "execution_count": 27,
   "metadata": {},
   "outputs": [],
   "source": [
    "X = np.load(\"dataset/processed_data.npy\")\n",
    "converter = {\n",
    "    \"circ_rna\": 0,\n",
    "    \"non_circ_rna\":1\n",
    "}\n",
    "y = [converter[i[\"label\"]] for i in np.load(\"dataset/all_data.npy\", allow_pickle=True) if i[\"vector\"] != 0]"
   ]
  },
  {
   "cell_type": "code",
   "execution_count": 32,
   "metadata": {},
   "outputs": [
    {
     "data": {
      "text/plain": [
       "{0: 22973, 1: 33239}"
      ]
     },
     "execution_count": 32,
     "metadata": {},
     "output_type": "execute_result"
    }
   ],
   "source": [
    "from sklearn.model_selection import train_test_split\n",
    "# for classification\n",
    "X_train, X_test, y_train, y_test = train_test_split(X, y, test_size = 0.3) \n",
    "# for classification\n",
    "unique, counts = np.unique(y_train, return_counts=True)\n",
    "dict(zip(unique, counts))"
   ]
  },
  {
   "cell_type": "markdown",
   "metadata": {},
   "source": [
    "### Model Training"
   ]
  },
  {
   "cell_type": "code",
   "execution_count": 33,
   "metadata": {},
   "outputs": [],
   "source": [
    "import torch\n",
    "import torch.nn as nn\n",
    "import torch.optim as optim"
   ]
  },
  {
   "cell_type": "code",
   "execution_count": 34,
   "metadata": {},
   "outputs": [
    {
     "name": "stdout",
     "output_type": "stream",
     "text": [
      "using cuda:0\n"
     ]
    }
   ],
   "source": [
    "if torch.cuda.is_available(): \n",
    "    dev = \"cuda:0\" \n",
    "else: \n",
    "    dev = \"cpu\" \n",
    "device = torch.device(dev) \n",
    "print(\"using\", device)\n",
    "torch.backends.cudnn.benchmark = True"
   ]
  },
  {
   "cell_type": "code",
   "execution_count": 35,
   "metadata": {},
   "outputs": [
    {
     "data": {
      "text/plain": [
       "((torch.Size([56212, 256]), torch.Size([56212])),\n",
       " (torch.Size([24091, 256]), torch.Size([24091])))"
      ]
     },
     "execution_count": 35,
     "metadata": {},
     "output_type": "execute_result"
    }
   ],
   "source": [
    "tensor_x_train = torch.tensor(X_train).to(device)\n",
    "tensor_y_train = torch.tensor(y_train).to(device)\n",
    "tensor_x_test = torch.tensor(X_test).to(device)\n",
    "tensor_y_test = torch.tensor(y_test).to(device)\n",
    "\n",
    "(tensor_x_train.shape, tensor_y_train.shape), (tensor_x_test.shape, tensor_y_test.shape)"
   ]
  },
  {
   "cell_type": "code",
   "execution_count": 46,
   "metadata": {},
   "outputs": [],
   "source": [
    "class Model(nn.Module):\n",
    "    def __init__(self, input_size, output_size, hidden_dim):\n",
    "        super(Model, self).__init__()\n",
    "\n",
    "        # Defining some parameters\n",
    "        self.hidden_dim = hidden_dim\n",
    "\n",
    "        #Defining the layers\n",
    "        self.layer1 = nn.Linear(input_size, hidden_dim, bias=True)\n",
    "        self.activationlayer1 = nn.LeakyReLU()\n",
    "        self.layer2 = nn.Linear(hidden_dim, hidden_dim, bias=True)\n",
    "        self.activationlayer2 = nn.LeakyReLU()\n",
    "        self.layer3 = nn.Linear(hidden_dim, int(hidden_dim/2), bias=True)\n",
    "        self.activationlayer3 = nn.LeakyReLU()\n",
    "        self.layer4 = nn.Linear(int(hidden_dim/2), int(hidden_dim/4), bias=True)\n",
    "        self.activationlayer4 = nn.LeakyReLU()\n",
    "        self.ouput = nn.Linear(int(hidden_dim/4), output_size, bias=True)\n",
    "        # for classification\n",
    "        self.outputactivation = nn.Sigmoid()\n",
    "        # for predicition\n",
    "        #self.outputactivation = nn.Hardtanh(min_val=min_val, max_val=max_val)\n",
    "    \n",
    "    def forward(self, x):\n",
    "        x = self.layer1(x)\n",
    "        x = self.activationlayer1(x)\n",
    "        x = self.layer2(x)\n",
    "        x = self.activationlayer2(x)\n",
    "        x = self.layer3(x)\n",
    "        x = self.activationlayer3(x)\n",
    "        x = self.layer4(x)\n",
    "        x = self.activationlayer4(x)\n",
    "        x = self.ouput(x)\n",
    "        x = self.outputactivation(x)\n",
    "        return x"
   ]
  },
  {
   "cell_type": "code",
   "execution_count": 47,
   "metadata": {},
   "outputs": [
    {
     "data": {
      "text/plain": [
       "256"
      ]
     },
     "execution_count": 47,
     "metadata": {},
     "output_type": "execute_result"
    }
   ],
   "source": [
    "input_size = tensor_x_train.shape[1]\n",
    "hidden_dim = 256\n",
    "batch_size = 64\n",
    "learning_rate = 1e-5\n",
    "output_size = 1\n",
    "input_size"
   ]
  },
  {
   "cell_type": "code",
   "execution_count": 48,
   "metadata": {},
   "outputs": [],
   "source": [
    "import torch.utils.data as data\n",
    "from torcheval.metrics import BinaryAccuracy\n",
    "\n",
    "\n",
    "# compile model\n",
    "model = Model(input_size=input_size, output_size=output_size, hidden_dim=hidden_dim).to(device)\n",
    "optimizer = optim.Adam(model.parameters(), lr=learning_rate)\n",
    "training_loader = data.DataLoader(data.TensorDataset(tensor_x_train, tensor_y_train), shuffle=True, batch_size=batch_size)\n",
    "validation_loader = data.DataLoader(data.TensorDataset(tensor_x_test, tensor_y_test), shuffle=True, batch_size=batch_size)\n",
    "#scheduler = StepLR(optimizer, step_size=100, gamma=0.1)\n",
    "\n",
    "# this is for classification\n",
    "loss_fn = nn.BCELoss().to(device) # sparse categorical cross entropy\n",
    "metric = BinaryAccuracy().to(device)\n"
   ]
  },
  {
   "cell_type": "code",
   "execution_count": 49,
   "metadata": {},
   "outputs": [
    {
     "data": {
      "text/plain": [
       "==========================================================================================\n",
       "Layer (type:depth-idx)                   Output Shape              Param #\n",
       "==========================================================================================\n",
       "Model                                    [64, 1]                   --\n",
       "├─Linear: 1-1                            [64, 256]                 65,792\n",
       "├─LeakyReLU: 1-2                         [64, 256]                 --\n",
       "├─Linear: 1-3                            [64, 256]                 65,792\n",
       "├─LeakyReLU: 1-4                         [64, 256]                 --\n",
       "├─Linear: 1-5                            [64, 128]                 32,896\n",
       "├─LeakyReLU: 1-6                         [64, 128]                 --\n",
       "├─Linear: 1-7                            [64, 64]                  8,256\n",
       "├─LeakyReLU: 1-8                         [64, 64]                  --\n",
       "├─Linear: 1-9                            [64, 1]                   65\n",
       "├─Sigmoid: 1-10                          [64, 1]                   --\n",
       "==========================================================================================\n",
       "Total params: 172,801\n",
       "Trainable params: 172,801\n",
       "Non-trainable params: 0\n",
       "Total mult-adds (M): 11.06\n",
       "==========================================================================================\n",
       "Input size (MB): 0.07\n",
       "Forward/backward pass size (MB): 0.36\n",
       "Params size (MB): 0.69\n",
       "Estimated Total Size (MB): 1.12\n",
       "=========================================================================================="
      ]
     },
     "execution_count": 49,
     "metadata": {},
     "output_type": "execute_result"
    }
   ],
   "source": [
    "from torchinfo import summary\n",
    "\n",
    "summary(model, input_size=(batch_size, input_size))"
   ]
  },
  {
   "cell_type": "code",
   "execution_count": 50,
   "metadata": {},
   "outputs": [],
   "source": [
    "def train_one_epoch():\n",
    "    step_loss = 0\n",
    "    step_acc = 0\n",
    "    running_loss = 0\n",
    "    running_acc = 0\n",
    "    for i, data in enumerate(training_loader):\n",
    "        # Every data instance is an input + label pair\n",
    "        inputs, labels = data\n",
    "        \n",
    "        # Make predictions for this batch\n",
    "        outputs = model(inputs.cuda().float()).squeeze()\n",
    "\n",
    "        # for classification: convert labels to long tensor\n",
    "        labels = labels.cuda().float()\n",
    "        \n",
    "        # for predicition: convert labels to float tensor\n",
    "        #labels = torch.reshape(labels.cuda().float(), (-1,1))\n",
    "        \n",
    "        # Compute the loss and its gradients\n",
    "        # Zero your gradients for every batch!\n",
    "        optimizer.zero_grad()\n",
    "        \n",
    "        loss = loss_fn(outputs, labels)\n",
    "        loss.backward()\n",
    "        \n",
    "        # Compute the accuracy\n",
    "        metric.update(outputs, labels)\n",
    "        \n",
    "        # Adjust learning weights\n",
    "        optimizer.step()\n",
    "        #scheduler.step()\n",
    "        \n",
    "        # Gather data loss and accuracy\n",
    "        running_loss += loss.item()\n",
    "        running_acc += metric.compute().item()\n",
    "    \n",
    "    step_loss = (running_loss/len(training_loader))\n",
    "    step_acc = (running_acc/len(training_loader))\n",
    "        # print('  STEP {} loss: {}, accuracy: {}'.format(steps+1, running_loss/len(training_loader), running_acc/len(training_loader)))\n",
    "    return step_loss, step_acc"
   ]
  },
  {
   "cell_type": "code",
   "execution_count": 51,
   "metadata": {},
   "outputs": [],
   "source": [
    "class history:\n",
    "    def __init__(self):\n",
    "        self.train_loss = []\n",
    "        self.train_acc = []\n",
    "        self.val_loss = []\n",
    "        self.val_acc = []\n",
    "        self.times = []\n",
    "    def add_history(self, train_loss, train_acc, val_loss, val_acc, time_spent):\n",
    "        self.train_loss.append(train_loss)\n",
    "        self.train_acc.append(train_acc)\n",
    "        self.val_loss.append(val_loss)\n",
    "        self.val_acc.append(val_acc)\n",
    "        self.times.append(time_spent)"
   ]
  },
  {
   "cell_type": "code",
   "execution_count": 52,
   "metadata": {},
   "outputs": [],
   "source": [
    "h = history()\n",
    "best_vloss = 1_000_000.\n",
    "best_vacc = 0"
   ]
  },
  {
   "cell_type": "code",
   "execution_count": 55,
   "metadata": {},
   "outputs": [
    {
     "name": "stdout",
     "output_type": "stream",
     "text": [
      "EPOCH 1/50:\n",
      "loss: 0.03783340512301277, acc: 0.8959179086625508, val_loss: 0.03379184380173683, val_acc: 0.9054821386577596, time:3.0495102405548096\n",
      "saved\n",
      "EPOCH 2/50:\n",
      "loss: 0.03310128001589434, acc: 0.913116813858757, val_loss: 0.030513811856508255, val_acc: 0.9197167147059656, time:2.489819288253784\n",
      "saved\n",
      "EPOCH 3/50:\n",
      "loss: 0.030231738207433734, acc: 0.9251858109228983, val_loss: 0.02809932827949524, val_acc: 0.9299861970567577, time:2.305208206176758\n",
      "saved\n",
      "EPOCH 4/50:\n",
      "loss: 0.028146513704098212, acc: 0.9341040615742524, val_loss: 0.026496950536966324, val_acc: 0.9377875236364511, time:2.791146993637085\n",
      "saved\n",
      "EPOCH 5/50:\n",
      "loss: 0.026530222767811435, acc: 0.9409955904752321, val_loss: 0.025465434417128563, val_acc: 0.9439007518146019, time:2.639949083328247\n",
      "saved\n",
      "EPOCH 6/50:\n",
      "loss: 0.025201813653969674, acc: 0.9464752770392425, val_loss: 0.024337396025657654, val_acc: 0.9488431091966301, time:2.342369794845581\n",
      "saved\n",
      "EPOCH 7/50:\n",
      "loss: 0.024050964038836026, acc: 0.9509510610833238, val_loss: 0.023574475198984146, val_acc: 0.9529176171009357, time:2.6529452800750732\n",
      "saved\n",
      "EPOCH 8/50:\n",
      "loss: 0.023060201629503622, acc: 0.9546847272922833, val_loss: 0.02215557172894478, val_acc: 0.956338472486491, time:2.8538856506347656\n",
      "saved\n",
      "EPOCH 9/50:\n",
      "loss: 0.022147293690357894, acc: 0.9578404458445222, val_loss: 0.021358057856559753, val_acc: 0.9592546499692477, time:2.564263343811035\n",
      "saved\n",
      "EPOCH 10/50:\n",
      "loss: 0.021286172147991774, acc: 0.9605469443285425, val_loss: 0.020489327609539032, val_acc: 0.9617673459040391, time:2.388486862182617\n",
      "saved\n",
      "EPOCH 11/50:\n",
      "loss: 0.020491741578448543, acc: 0.962896639779973, val_loss: 0.02037113346159458, val_acc: 0.9639565868782428, time:2.5646486282348633\n",
      "saved\n",
      "EPOCH 12/50:\n",
      "loss: 0.019809132834829695, acc: 0.9649444367562816, val_loss: 0.019098330289125443, val_acc: 0.9658803604642023, time:2.4005424976348877\n",
      "saved\n",
      "EPOCH 13/50:\n",
      "loss: 0.019052482099909087, acc: 0.9667652768079739, val_loss: 0.01830974780023098, val_acc: 0.9675924997747103, time:2.325721263885498\n",
      "saved\n",
      "EPOCH 14/50:\n",
      "loss: 0.01840202266003924, acc: 0.9683724700116189, val_loss: 0.017816530540585518, val_acc: 0.9691190713280392, time:2.293471336364746\n",
      "saved\n",
      "EPOCH 15/50:\n",
      "loss: 0.017769516056387095, acc: 0.9698209624919739, val_loss: 0.01692608743906021, val_acc: 0.970498081385615, time:2.2389817237854004\n",
      "saved\n",
      "EPOCH 16/50:\n",
      "loss: 0.017167385025490266, acc: 0.9711365940492173, val_loss: 0.01637878268957138, val_acc: 0.9717447979064455, time:2.275782823562622\n",
      "saved\n",
      "EPOCH 17/50:\n",
      "loss: 0.016474100894748156, acc: 0.972325070183703, val_loss: 0.01679230108857155, val_acc: 0.9728802518439862, time:2.426532506942749\n",
      "saved\n",
      "EPOCH 18/50:\n",
      "loss: 0.01602177613664342, acc: 0.9734081688323254, val_loss: 0.01568722352385521, val_acc: 0.9739192104466081, time:2.4922571182250977\n",
      "saved\n",
      "EPOCH 19/50:\n",
      "loss: 0.015746166772263145, acc: 0.9744090117827753, val_loss: 0.014811805449426174, val_acc: 0.9748765061009151, time:2.8288512229919434\n",
      "saved\n",
      "EPOCH 20/50:\n",
      "loss: 0.01496035115698255, acc: 0.9753228440219632, val_loss: 0.014847840182483196, val_acc: 0.975759599347962, time:2.9490883350372314\n",
      "saved\n",
      "EPOCH 21/50:\n",
      "loss: 0.014468263489111042, acc: 0.976170789869979, val_loss: 0.013796156272292137, val_acc: 0.976572206387153, time:2.545125722885132\n",
      "saved\n",
      "EPOCH 22/50:\n",
      "loss: 0.013939630365954338, acc: 0.9769562935123942, val_loss: 0.013381906785070896, val_acc: 0.9773265178703187, time:2.321545124053955\n",
      "saved\n",
      "EPOCH 23/50:\n",
      "loss: 0.013526969493538422, acc: 0.9776870033304303, val_loss: 0.012701469473540783, val_acc: 0.9780329850055178, time:2.3754684925079346\n",
      "saved\n",
      "EPOCH 24/50:\n",
      "loss: 0.013127432478736425, acc: 0.9783629390566829, val_loss: 0.012253678403794765, val_acc: 0.9786827698626632, time:2.3471531867980957\n",
      "saved\n",
      "EPOCH 25/50:\n",
      "loss: 0.012771338197856662, acc: 0.978995383328274, val_loss: 0.011859310790896416, val_acc: 0.9792954626070726, time:2.273198127746582\n",
      "saved\n",
      "EPOCH 26/50:\n",
      "loss: 0.012328049340991269, acc: 0.9795863818254351, val_loss: 0.011869735084474087, val_acc: 0.9798750948526499, time:2.326667308807373\n",
      "saved\n",
      "EPOCH 27/50:\n",
      "loss: 0.011995758104901728, acc: 0.9801529430963345, val_loss: 0.011343392543494701, val_acc: 0.9804216291291011, time:2.3485286235809326\n",
      "saved\n",
      "EPOCH 28/50:\n",
      "loss: 0.0116414302274393, acc: 0.9806823872868925, val_loss: 0.01141055766493082, val_acc: 0.9809364529440194, time:2.4016659259796143\n",
      "saved\n",
      "EPOCH 29/50:\n",
      "loss: 0.01128311087776678, acc: 0.9811805648744039, val_loss: 0.010583844967186451, val_acc: 0.98142055586099, time:2.236372232437134\n",
      "saved\n",
      "EPOCH 30/50:\n",
      "loss: 0.010967320773467916, acc: 0.9816503207431312, val_loss: 0.010596273466944695, val_acc: 0.9818793005589149, time:2.3470680713653564\n",
      "saved\n",
      "EPOCH 31/50:\n",
      "loss: 0.010618661685768076, acc: 0.982097794035867, val_loss: 0.00995897687971592, val_acc: 0.9823119001616217, time:2.2710788249969482\n",
      "saved\n",
      "EPOCH 32/50:\n",
      "loss: 0.010360395299287702, acc: 0.9825198365559757, val_loss: 0.010032711550593376, val_acc: 0.982724064857321, time:2.332190752029419\n",
      "saved\n",
      "EPOCH 33/50:\n",
      "loss: 0.01007811007182224, acc: 0.9829238824063193, val_loss: 0.009434557519853115, val_acc: 0.9831169236560083, time:2.2932000160217285\n",
      "saved\n",
      "EPOCH 34/50:\n",
      "loss: 0.009794572103846462, acc: 0.9833026929791334, val_loss: 0.00941519346088171, val_acc: 0.983489178219904, time:2.4243905544281006\n",
      "saved\n",
      "EPOCH 35/50:\n",
      "loss: 0.009569963730608914, acc: 0.9836679203382802, val_loss: 0.008997750468552113, val_acc: 0.983844387120214, time:2.4101369380950928\n",
      "saved\n",
      "EPOCH 36/50:\n",
      "loss: 0.009326574942692388, acc: 0.9840133887915888, val_loss: 0.00901308748871088, val_acc: 0.9841828717793331, time:2.393551826477051\n",
      "saved\n",
      "EPOCH 37/50:\n",
      "loss: 0.009117675018028635, acc: 0.984346590012278, val_loss: 0.008565617725253105, val_acc: 0.9845067980434914, time:2.417313575744629\n",
      "saved\n",
      "EPOCH 38/50:\n",
      "loss: 0.008915564267495747, acc: 0.9846621317803792, val_loss: 0.008415290154516697, val_acc: 0.9848162715251629, time:2.3974084854125977\n",
      "saved\n",
      "EPOCH 39/50:\n",
      "loss: 0.008627053905947667, acc: 0.9849646192497497, val_loss: 0.00897589698433876, val_acc: 0.9851119628951783, time:2.425071954727173\n",
      "saved\n",
      "EPOCH 40/50:\n",
      "loss: 0.008477953932487046, acc: 0.9852542022796215, val_loss: 0.00840497575700283, val_acc: 0.9853938835369181, time:2.363384485244751\n",
      "saved\n",
      "EPOCH 41/50:\n",
      "loss: 0.008315468798034593, acc: 0.9855306307881629, val_loss: 0.008006743155419827, val_acc: 0.9856650892556188, time:2.3870863914489746\n",
      "saved\n",
      "EPOCH 42/50:\n",
      "loss: 0.00820075146848891, acc: 0.985796634315495, val_loss: 0.007697493769228458, val_acc: 0.9859254437669203, time:2.314053535461426\n",
      "saved\n",
      "EPOCH 43/50:\n",
      "loss: 0.00802008822138222, acc: 0.9860514274907465, val_loss: 0.007689987309277058, val_acc: 0.986173691895027, time:2.354236364364624\n",
      "saved\n",
      "EPOCH 44/50:\n",
      "loss: 0.007879293579883678, acc: 0.9862954912874614, val_loss: 0.007545533124357462, val_acc: 0.9864132998792815, time:2.4567136764526367\n",
      "saved\n",
      "EPOCH 45/50:\n",
      "loss: 0.007695250592191319, acc: 0.9865289032120211, val_loss: 0.00762250367552042, val_acc: 0.9866434732545908, time:2.4326443672180176\n",
      "saved\n",
      "EPOCH 46/50:\n",
      "loss: 0.007531467687245683, acc: 0.9867557930729359, val_loss: 0.007250331807881594, val_acc: 0.9868654860109486, time:2.2634518146514893\n",
      "saved\n",
      "EPOCH 47/50:\n",
      "loss: 0.0074181364576978055, acc: 0.9869725908978129, val_loss: 0.007332945242524147, val_acc: 0.9870769835277324, time:2.2341413497924805\n",
      "saved\n",
      "EPOCH 48/50:\n",
      "loss: 0.007306646574899158, acc: 0.9871813673208191, val_loss: 0.006981853861361742, val_acc: 0.9872822374184504, time:2.2812819480895996\n",
      "saved\n",
      "EPOCH 49/50:\n",
      "loss: 0.007177831112182396, acc: 0.9873836981694175, val_loss: 0.00710058119148016, val_acc: 0.987481076299986, time:2.237715005874634\n",
      "saved\n",
      "EPOCH 50/50:\n",
      "loss: 0.00701997132720378, acc: 0.9875766255885396, val_loss: 0.007089277729392052, val_acc: 0.9876722807277103, time:2.1832666397094727\n",
      "saved\n"
     ]
    }
   ],
   "source": [
    "import time\n",
    "\n",
    "epoch_number = 0\n",
    "EPOCHS = 50\n",
    "model_name = \"torchmodel_v0.0.0\"\n",
    "torch.backends.cudnn.benchmark = True\n",
    "\n",
    "for epoch in range(EPOCHS):\n",
    "    start_time = time.time()\n",
    "    print('EPOCH {}/{}:'.format(epoch_number + 1, EPOCHS))\n",
    "\n",
    "    # Make sure gradient tracking is on, and do a pass over the data\n",
    "    model.train()\n",
    "    avg_loss, avg_acc = train_one_epoch()\n",
    "\n",
    "\n",
    "    running_vloss = 0.0\n",
    "    runing_acc = 0.0\n",
    "    # Set the model to evaluation mode, disabling dropout and using population\n",
    "    # statistics for batch normalization.\n",
    "    model.eval()\n",
    "\n",
    "    # Disable gradient computation and reduce memory consumption.\n",
    "    with torch.no_grad():\n",
    "        for i, vdata in enumerate(validation_loader):\n",
    "            vinputs, vlabels = vdata\n",
    "            \n",
    "            # for classification\n",
    "            vlabels = vlabels.cuda().float()\n",
    "            \n",
    "            # for predicition\n",
    "            #vlabels = torch.reshape(vlabels.cuda().float(), (-1,1))\n",
    "            \n",
    "            voutputs = model(vinputs.cuda().float()).squeeze()\n",
    "            metric.update(voutputs, vlabels)\n",
    "            runing_acc += metric.compute().item()\n",
    "            vloss = loss_fn(voutputs, vlabels)\n",
    "            running_vloss += vloss\n",
    "\n",
    "    avg_vloss = running_vloss / len(validation_loader)\n",
    "    avg_vacc = runing_acc / len(validation_loader)\n",
    "    print('loss: {}, acc: {}, val_loss: {}, val_acc: {}, time:{}'.format(avg_loss, avg_acc, avg_vloss, avg_vacc, (time.time() - start_time)))\n",
    "    \n",
    "    # add history \n",
    "    h.add_history(avg_loss, avg_acc, avg_vloss, avg_vacc, (time.time() - start_time))\n",
    "    \n",
    "    # Track best performance, and save the model's state\n",
    "    if avg_vloss < best_vloss:\n",
    "        best_vloss = avg_vloss\n",
    "        model_path = 'models/{}.{}.loss'.format(model_name, epoch_number)\n",
    "        torch.save(model.state_dict(), model_path)\n",
    "        print(\"saved\")\n",
    "    elif avg_vacc > best_vacc:\n",
    "        best_vacc = avg_vacc\n",
    "        model_path = 'models/{}.{}.acc'.format(model_name,epoch_number)\n",
    "        torch.save(model.state_dict(), model_path)\n",
    "        print(\"saved\")\n",
    "    epoch_number += 1"
   ]
  },
  {
   "cell_type": "code",
   "execution_count": 59,
   "metadata": {},
   "outputs": [
    {
     "data": {
      "image/png": "[encoded data removed]",
      "text/plain": [
       "<Figure size 640x480 with 1 Axes>"
      ]
     },
     "metadata": {},
     "output_type": "display_data"
    }
   ],
   "source": [
    "import matplotlib.pyplot as plt\n",
    "\n",
    "plt.plot(h.train_loss)\n",
    "plt.plot(list(i.item() for i in h.val_loss))\n",
    "plt.savefig(\"result/loss_plot.png\")"
   ]
  },
  {
   "cell_type": "code",
   "execution_count": 60,
   "metadata": {},
   "outputs": [
    {
     "data": {
      "image/png": "[encoded data removed]",
      "text/plain": [
       "<Figure size 640x480 with 1 Axes>"
      ]
     },
     "metadata": {},
     "output_type": "display_data"
    }
   ],
   "source": [
    "plt.plot(h.train_acc)\n",
    "plt.plot( h.val_acc)\n",
    "plt.savefig(\"result/accuracy_plot.png\")"
   ]
  },
  {
   "cell_type": "code",
   "execution_count": 61,
   "metadata": {},
   "outputs": [
    {
     "data": {
      "image/png": "[encoded data removed]",
      "text/plain": [
       "<Figure size 640x480 with 1 Axes>"
      ]
     },
     "metadata": {},
     "output_type": "display_data"
    }
   ],
   "source": [
    "plt.boxplot(h.times)\n",
    "plt.savefig(\"result/time_spent_per_epoch.png\")"
   ]
  },
  {
   "cell_type": "code",
   "execution_count": null,
   "metadata": {},
   "outputs": [],
   "source": []
  }
 ],
 "metadata": {
  "kernelspec": {
   "display_name": ".venv",
   "language": "python",
   "name": "python3"
  },
  "language_info": {
   "codemirror_mode": {
    "name": "ipython",
    "version": 3
   },
   "file_extension": ".py",
   "mimetype": "text/x-python",
   "name": "python",
   "nbconvert_exporter": "python",
   "pygments_lexer": "ipython3",
   "version": "3.10.7"
  }
 },
 "nbformat": 4,
 "nbformat_minor": 2
}
