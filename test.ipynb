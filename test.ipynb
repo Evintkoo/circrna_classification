{
 "cells": [
  {
   "cell_type": "markdown",
   "metadata": {},
   "source": [
    "### Importing Datas"
   ]
  },
  {
   "cell_type": "code",
   "execution_count": 1,
   "metadata": {},
   "outputs": [],
   "source": [
    "from kmer_counting import rna_strand_list_to_matrix, sequence2matrix\n",
    "import numpy as np \n",
    "import pandas as pd\n",
    "from Bio import SeqIO\n",
    "import os\n"
   ]
  },
  {
   "cell_type": "code",
   "execution_count": 2,
   "metadata": {},
   "outputs": [
    {
     "data": {
      "text/plain": [
       "32914"
      ]
     },
     "execution_count": 2,
     "metadata": {},
     "output_type": "execute_result"
    }
   ],
   "source": [
    "circ_rna_path = \"dataset/circRNA_fasta\"\n",
    "sequences = [str(i.seq) for i in list(SeqIO.parse(circ_rna_path, \"fasta\"))]\n",
    "len(sequences)"
   ]
  },
  {
   "cell_type": "code",
   "execution_count": 3,
   "metadata": {},
   "outputs": [
    {
     "ename": "AttributeError",
     "evalue": "'list' object has no attribute 'shape'",
     "output_type": "error",
     "traceback": [
      "\u001b[1;31m---------------------------------------------------------------------------\u001b[0m",
      "\u001b[1;31mAttributeError\u001b[0m                            Traceback (most recent call last)",
      "Cell \u001b[1;32mIn[3], line 3\u001b[0m\n\u001b[0;32m      1\u001b[0m converter \u001b[38;5;241m=\u001b[39m sequence2matrix()\n\u001b[0;32m      2\u001b[0m matrix \u001b[38;5;241m=\u001b[39m converter\u001b[38;5;241m.\u001b[39mfit(sequences, \u001b[38;5;124m\"\u001b[39m\u001b[38;5;124mvector_array\u001b[39m\u001b[38;5;124m\"\u001b[39m)\n\u001b[1;32m----> 3\u001b[0m \u001b[43mmatrix\u001b[49m\u001b[38;5;241;43m.\u001b[39;49m\u001b[43mshape\u001b[49m\n",
      "\u001b[1;31mAttributeError\u001b[0m: 'list' object has no attribute 'shape'"
     ]
    }
   ],
   "source": [
    "converter = sequence2matrix()\n",
    "matrix = converter.fit(sequences, \"vector_array\")\n",
    "matrix.shape"
   ]
  },
  {
   "cell_type": "code",
   "execution_count": 7,
   "metadata": {},
   "outputs": [
    {
     "data": {
      "text/plain": [
       "array([{'AAAA': 1, 'AAAG': 3, 'AAAC': 2, 'AAAU': 1, 'AAGA': 5, 'AAGG': 2, 'AAGC': 1, 'AAGU': 2, 'AACA': 3, 'AACG': 1, 'AACC': 3, 'AACU': 0, 'AAUA': 0, 'AAUG': 1, 'AAUC': 0, 'AAUU': 1, 'AGAA': 4, 'AGAG': 2, 'AGAC': 4, 'AGAU': 3, 'AGGA': 3, 'AGGG': 0, 'AGGC': 4, 'AGGU': 3, 'AGCA': 3, 'AGCG': 6, 'AGCC': 6, 'AGCU': 3, 'AGUA': 1, 'AGUG': 1, 'AGUC': 1, 'AGUU': 1, 'ACAA': 4, 'ACAG': 3, 'ACAC': 0, 'ACAU': 4, 'ACGA': 0, 'ACGG': 3, 'ACGC': 2, 'ACGU': 3, 'ACCA': 2, 'ACCG': 1, 'ACCC': 3, 'ACCU': 0, 'ACUA': 0, 'ACUG': 2, 'ACUC': 2, 'ACUU': 2, 'AUAA': 0, 'AUAG': 0, 'AUAC': 0, 'AUAU': 0, 'AUGA': 5, 'AUGG': 1, 'AUGC': 2, 'AUGU': 2, 'AUCA': 1, 'AUCG': 1, 'AUCC': 3, 'AUCU': 3, 'AUUA': 0, 'AUUG': 1, 'AUUC': 2, 'AUUU': 0, 'GAAA': 4, 'GAAG': 3, 'GAAC': 3, 'GAAU': 0, 'GAGA': 2, 'GAGG': 4, 'GAGC': 7, 'GAGU': 1, 'GACA': 3, 'GACG': 3, 'GACC': 1, 'GACU': 3, 'GAUA': 0, 'GAUG': 3, 'GAUC': 4, 'GAUU': 0, 'GGAA': 2, 'GGAG': 8, 'GGAC': 1, 'GGAU': 1, 'GGGA': 2, 'GGGG': 0, 'GGGC': 2, 'GGGU': 2, 'GGCA': 0, 'GGCG': 1, 'GGCC': 3, 'GGCU': 4, 'GGUA': 0, 'GGUG': 4, 'GGUC': 2, 'GGUU': 1, 'GCAA': 1, 'GCAG': 3, 'GCAC': 2, 'GCAU': 2, 'GCGA': 3, 'GCGG': 4, 'GCGC': 1, 'GCGU': 1, 'GCCA': 5, 'GCCG': 1, 'GCCC': 4, 'GCCU': 6, 'GCUA': 2, 'GCUG': 2, 'GCUC': 3, 'GCUU': 4, 'GUAA': 0, 'GUAG': 0, 'GUAC': 1, 'GUAU': 2, 'GUGA': 1, 'GUGG': 4, 'GUGC': 4, 'GUGU': 0, 'GUCA': 2, 'GUCG': 1, 'GUCC': 6, 'GUCU': 0, 'GUUA': 0, 'GUUG': 0, 'GUUC': 3, 'GUUU': 1, 'CAAA': 2, 'CAAG': 4, 'CAAC': 2, 'CAAU': 1, 'CAGA': 6, 'CAGG': 4, 'CAGC': 10, 'CAGU': 1, 'CACA': 1, 'CACG': 4, 'CACC': 2, 'CACU': 2, 'CAUA': 0, 'CAUG': 5, 'CAUC': 3, 'CAUU': 1, 'CGAA': 2, 'CGAG': 2, 'CGAC': 3, 'CGAU': 1, 'CGGA': 4, 'CGGG': 2, 'CGGC': 0, 'CGGU': 1, 'CGCA': 2, 'CGCG': 0, 'CGCC': 2, 'CGCU': 3, 'CGUA': 0, 'CGUG': 3, 'CGUC': 4, 'CGUU': 1, 'CCAA': 2, 'CCAG': 12, 'CCAC': 7, 'CCAU': 0, 'CCGA': 1, 'CCGG': 0, 'CCGC': 3, 'CCGU': 2, 'CCCA': 6, 'CCCG': 2, 'CCCC': 2, 'CCCU': 4, 'CCUA': 0, 'CCUG': 5, 'CCUC': 7, 'CCUU': 4, 'CUAA': 0, 'CUAG': 0, 'CUAC': 4, 'CUAU': 0, 'CUGA': 2, 'CUGG': 5, 'CUGC': 4, 'CUGU': 1, 'CUCA': 3, 'CUCG': 3, 'CUCC': 4, 'CUCU': 4, 'CUUA': 0, 'CUUG': 0, 'CUUC': 11, 'CUUU': 1, 'UAAA': 0, 'UAAG': 0, 'UAAC': 0, 'UAAU': 0, 'UAGA': 0, 'UAGG': 0, 'UAGC': 0, 'UAGU': 0, 'UACA': 4, 'UACG': 0, 'UACC': 0, 'UACU': 1, 'UAUA': 0, 'UAUG': 1, 'UAUC': 0, 'UAUU': 1, 'UGAA': 2, 'UGAG': 2, 'UGAC': 2, 'UGAU': 2, 'UGGA': 3, 'UGGG': 4, 'UGGC': 2, 'UGGU': 1, 'UGCA': 3, 'UGCG': 2, 'UGCC': 5, 'UGCU': 1, 'UGUA': 2, 'UGUG': 0, 'UGUC': 1, 'UGUU': 1, 'UCAA': 2, 'UCAG': 4, 'UCAC': 0, 'UCAU': 3, 'UCGA': 4, 'UCGG': 0, 'UCGC': 1, 'UCGU': 2, 'UCCA': 8, 'UCCG': 2, 'UCCC': 5, 'UCCU': 6, 'UCUA': 2, 'UCUG': 3, 'UCUC': 2, 'UCUU': 3, 'UUAA': 0, 'UUAG': 0, 'UUAC': 0, 'UUAU': 0, 'UUGA': 0, 'UUGG': 1, 'UUGC': 1, 'UUGU': 1, 'UUCA': 4, 'UUCG': 2, 'UUCC': 8, 'UUCU': 3, 'UUUA': 0, 'UUUG': 2, 'UUUC': 0, 'UUUU': 0},\n",
       "       {'AAAA': 9, 'AAAG': 11, 'AAAC': 4, 'AAAU': 8, 'AAGA': 12, 'AAGG': 7, 'AAGC': 5, 'AAGU': 7, 'AACA': 5, 'AACG': 0, 'AACC': 2, 'AACU': 1, 'AAUA': 3, 'AAUG': 6, 'AAUC': 3, 'AAUU': 2, 'AGAA': 12, 'AGAG': 9, 'AGAC': 2, 'AGAU': 7, 'AGGA': 6, 'AGGG': 1, 'AGGC': 0, 'AGGU': 5, 'AGCA': 8, 'AGCG': 0, 'AGCC': 3, 'AGCU': 7, 'AGUA': 3, 'AGUG': 3, 'AGUC': 3, 'AGUU': 6, 'ACAA': 2, 'ACAG': 4, 'ACAC': 3, 'ACAU': 7, 'ACGA': 1, 'ACGG': 2, 'ACGC': 1, 'ACGU': 1, 'ACCA': 3, 'ACCG': 0, 'ACCC': 0, 'ACCU': 3, 'ACUA': 1, 'ACUG': 4, 'ACUC': 0, 'ACUU': 3, 'AUAA': 2, 'AUAG': 4, 'AUAC': 2, 'AUAU': 1, 'AUGA': 5, 'AUGG': 4, 'AUGC': 3, 'AUGU': 1, 'AUCA': 2, 'AUCG': 2, 'AUCC': 4, 'AUCU': 2, 'AUUA': 2, 'AUUG': 5, 'AUUC': 4, 'AUUU': 2, 'GAAA': 12, 'GAAG': 10, 'GAAC': 3, 'GAAU': 4, 'GAGA': 6, 'GAGG': 2, 'GAGC': 6, 'GAGU': 2, 'GACA': 3, 'GACG': 3, 'GACC': 1, 'GACU': 1, 'GAUA': 3, 'GAUG': 3, 'GAUC': 2, 'GAUU': 2, 'GGAA': 8, 'GGAG': 5, 'GGAC': 3, 'GGAU': 1, 'GGGA': 3, 'GGGG': 0, 'GGGC': 1, 'GGGU': 0, 'GGCA': 2, 'GGCG': 0, 'GGCC': 0, 'GGCU': 1, 'GGUA': 1, 'GGUG': 5, 'GGUC': 2, 'GGUU': 2, 'GCAA': 9, 'GCAG': 5, 'GCAC': 5, 'GCAU': 3, 'GCGA': 0, 'GCGG': 0, 'GCGC': 0, 'GCGU': 1, 'GCCA': 4, 'GCCG': 0, 'GCCC': 2, 'GCCU': 3, 'GCUA': 3, 'GCUG': 1, 'GCUC': 1, 'GCUU': 4, 'GUAA': 3, 'GUAG': 1, 'GUAC': 2, 'GUAU': 1, 'GUGA': 1, 'GUGG': 4, 'GUGC': 2, 'GUGU': 4, 'GUCA': 1, 'GUCG': 0, 'GUCC': 3, 'GUCU': 2, 'GUUA': 3, 'GUUG': 5, 'GUUC': 6, 'GUUU': 2, 'CAAA': 8, 'CAAG': 5, 'CAAC': 1, 'CAAU': 1, 'CAGA': 6, 'CAGG': 2, 'CAGC': 5, 'CAGU': 3, 'CACA': 4, 'CACG': 1, 'CACC': 1, 'CACU': 3, 'CAUA': 3, 'CAUG': 2, 'CAUC': 4, 'CAUU': 7, 'CGAA': 0, 'CGAG': 2, 'CGAC': 0, 'CGAU': 0, 'CGGA': 1, 'CGGG': 1, 'CGGC': 0, 'CGGU': 0, 'CGCA': 1, 'CGCG': 0, 'CGCC': 2, 'CGCU': 0, 'CGUA': 0, 'CGUG': 1, 'CGUC': 0, 'CGUU': 1, 'CCAA': 3, 'CCAG': 5, 'CCAC': 1, 'CCAU': 4, 'CCGA': 0, 'CCGG': 0, 'CCGC': 1, 'CCGU': 0, 'CCCA': 3, 'CCCG': 0, 'CCCC': 1, 'CCCU': 0, 'CCUA': 5, 'CCUG': 7, 'CCUC': 1, 'CCUU': 0, 'CUAA': 1, 'CUAG': 6, 'CUAC': 4, 'CUAU': 1, 'CUGA': 5, 'CUGG': 5, 'CUGC': 8, 'CUGU': 3, 'CUCA': 0, 'CUCG': 0, 'CUCC': 3, 'CUCU': 1, 'CUUA': 1, 'CUUG': 4, 'CUUC': 1, 'CUUU': 2, 'UAAA': 3, 'UAAG': 5, 'UAAC': 0, 'UAAU': 1, 'UAGA': 5, 'UAGG': 1, 'UAGC': 2, 'UAGU': 3, 'UACA': 3, 'UACG': 1, 'UACC': 2, 'UACU': 3, 'UAUA': 0, 'UAUG': 2, 'UAUC': 1, 'UAUU': 2, 'UGAA': 8, 'UGAG': 1, 'UGAC': 3, 'UGAU': 2, 'UGGA': 7, 'UGGG': 3, 'UGGC': 2, 'UGGU': 5, 'UGCA': 11, 'UGCG': 1, 'UGCC': 4, 'UGCU': 1, 'UGUA': 3, 'UGUG': 2, 'UGUC': 1, 'UGUU': 7, 'UCAA': 1, 'UCAG': 2, 'UCAC': 1, 'UCAU': 2, 'UCGA': 1, 'UCGG': 0, 'UCGC': 1, 'UCGU': 0, 'UCCA': 3, 'UCCG': 1, 'UCCC': 1, 'UCCU': 8, 'UCUA': 3, 'UCUG': 9, 'UCUC': 2, 'UCUU': 1, 'UUAA': 3, 'UUAG': 0, 'UUAC': 1, 'UUAU': 2, 'UUGA': 3, 'UUGG': 4, 'UUGC': 4, 'UUGU': 5, 'UUCA': 3, 'UUCG': 0, 'UUCC': 2, 'UUCU': 10, 'UUUA': 0, 'UUUG': 2, 'UUUC': 4, 'UUUU': 2},\n",
       "       {'AAAA': 1, 'AAAG': 1, 'AAAC': 0, 'AAAU': 1, 'AAGA': 1, 'AAGG': 0, 'AAGC': 0, 'AAGU': 0, 'AACA': 1, 'AACG': 0, 'AACC': 0, 'AACU': 1, 'AAUA': 1, 'AAUG': 0, 'AAUC': 0, 'AAUU': 1, 'AGAA': 1, 'AGAG': 0, 'AGAC': 0, 'AGAU': 0, 'AGGA': 0, 'AGGG': 0, 'AGGC': 0, 'AGGU': 0, 'AGCA': 1, 'AGCG': 0, 'AGCC': 0, 'AGCU': 1, 'AGUA': 0, 'AGUG': 0, 'AGUC': 0, 'AGUU': 0, 'ACAA': 1, 'ACAG': 1, 'ACAC': 0, 'ACAU': 1, 'ACGA': 0, 'ACGG': 0, 'ACGC': 0, 'ACGU': 0, 'ACCA': 1, 'ACCG': 0, 'ACCC': 0, 'ACCU': 1, 'ACUA': 0, 'ACUG': 0, 'ACUC': 2, 'ACUU': 0, 'AUAA': 0, 'AUAG': 1, 'AUAC': 1, 'AUAU': 1, 'AUGA': 0, 'AUGG': 0, 'AUGC': 1, 'AUGU': 0, 'AUCA': 0, 'AUCG': 0, 'AUCC': 0, 'AUCU': 1, 'AUUA': 0, 'AUUG': 0, 'AUUC': 2, 'AUUU': 0, 'GAAA': 1, 'GAAG': 0, 'GAAC': 1, 'GAAU': 1, 'GAGA': 0, 'GAGG': 0, 'GAGC': 0, 'GAGU': 0, 'GACA': 0, 'GACG': 0, 'GACC': 0, 'GACU': 0, 'GAUA': 0, 'GAUG': 0, 'GAUC': 0, 'GAUU': 0, 'GGAA': 0, 'GGAG': 0, 'GGAC': 0, 'GGAU': 0, 'GGGA': 0, 'GGGG': 0, 'GGGC': 0, 'GGGU': 0, 'GGCA': 0, 'GGCG': 0, 'GGCC': 0, 'GGCU': 0, 'GGUA': 1, 'GGUG': 0, 'GGUC': 0, 'GGUU': 1, 'GCAA': 0, 'GCAG': 0, 'GCAC': 0, 'GCAU': 1, 'GCGA': 0, 'GCGG': 0, 'GCGC': 0, 'GCGU': 0, 'GCCA': 0, 'GCCG': 1, 'GCCC': 0, 'GCCU': 0, 'GCUA': 0, 'GCUG': 0, 'GCUC': 0, 'GCUU': 1, 'GUAA': 0, 'GUAG': 0, 'GUAC': 2, 'GUAU': 0, 'GUGA': 0, 'GUGG': 0, 'GUGC': 0, 'GUGU': 0, 'GUCA': 0, 'GUCG': 0, 'GUCC': 0, 'GUCU': 0, 'GUUA': 0, 'GUUG': 0, 'GUUC': 0, 'GUUU': 1, 'CAAA': 1, 'CAAG': 0, 'CAAC': 1, 'CAAU': 0, 'CAGA': 0, 'CAGG': 0, 'CAGC': 1, 'CAGU': 0, 'CACA': 0, 'CACG': 0, 'CACC': 0, 'CACU': 0, 'CAUA': 1, 'CAUG': 0, 'CAUC': 1, 'CAUU': 1, 'CGAA': 1, 'CGAG': 0, 'CGAC': 0, 'CGAU': 0, 'CGGA': 0, 'CGGG': 0, 'CGGC': 0, 'CGGU': 0, 'CGCA': 0, 'CGCG': 0, 'CGCC': 0, 'CGCU': 0, 'CGUA': 0, 'CGUG': 0, 'CGUC': 0, 'CGUU': 0, 'CCAA': 1, 'CCAG': 0, 'CCAC': 0, 'CCAU': 1, 'CCGA': 1, 'CCGG': 0, 'CCGC': 0, 'CCGU': 0, 'CCCA': 0, 'CCCG': 0, 'CCCC': 0, 'CCCU': 0, 'CCUA': 1, 'CCUG': 1, 'CCUC': 0, 'CCUU': 1, 'CUAA': 0, 'CUAG': 0, 'CUAC': 2, 'CUAU': 0, 'CUGA': 0, 'CUGG': 1, 'CUGC': 0, 'CUGU': 1, 'CUCA': 0, 'CUCG': 0, 'CUCC': 2, 'CUCU': 1, 'CUUA': 0, 'CUUG': 0, 'CUUC': 0, 'CUUU': 2, 'UAAA': 0, 'UAAG': 0, 'UAAC': 0, 'UAAU': 0, 'UAGA': 0, 'UAGG': 0, 'UAGC': 1, 'UAGU': 0, 'UACA': 2, 'UACG': 0, 'UACC': 2, 'UACU': 1, 'UAUA': 1, 'UAUG': 0, 'UAUC': 0, 'UAUU': 0, 'UGAA': 1, 'UGAG': 0, 'UGAC': 0, 'UGAU': 0, 'UGGA': 0, 'UGGG': 0, 'UGGC': 0, 'UGGU': 2, 'UGCA': 0, 'UGCG': 0, 'UGCC': 1, 'UGCU': 0, 'UGUA': 1, 'UGUG': 0, 'UGUC': 0, 'UGUU': 0, 'UCAA': 0, 'UCAG': 0, 'UCAC': 0, 'UCAU': 0, 'UCGA': 0, 'UCGG': 0, 'UCGC': 0, 'UCGU': 0, 'UCCA': 1, 'UCCG': 0, 'UCCC': 0, 'UCCU': 2, 'UCUA': 1, 'UCUG': 1, 'UCUC': 1, 'UCUU': 0, 'UUAA': 0, 'UUAG': 0, 'UUAC': 0, 'UUAU': 0, 'UUGA': 1, 'UUGG': 1, 'UUGC': 0, 'UUGU': 0, 'UUCA': 0, 'UUCG': 0, 'UUCC': 1, 'UUCU': 1, 'UUUA': 0, 'UUUG': 3, 'UUUC': 0, 'UUUU': 0},\n",
       "       ...,\n",
       "       {'AAAA': 4, 'AAAG': 5, 'AAAC': 2, 'AAAU': 3, 'AAGA': 4, 'AAGG': 6, 'AAGC': 5, 'AAGU': 3, 'AACA': 1, 'AACG': 0, 'AACC': 4, 'AACU': 5, 'AAUA': 3, 'AAUG': 1, 'AAUC': 2, 'AAUU': 0, 'AGAA': 6, 'AGAG': 4, 'AGAC': 0, 'AGAU': 3, 'AGGA': 7, 'AGGG': 4, 'AGGC': 7, 'AGGU': 1, 'AGCA': 8, 'AGCG': 1, 'AGCC': 4, 'AGCU': 7, 'AGUA': 2, 'AGUG': 3, 'AGUC': 4, 'AGUU': 0, 'ACAA': 0, 'ACAG': 4, 'ACAC': 3, 'ACAU': 3, 'ACGA': 1, 'ACGG': 1, 'ACGC': 0, 'ACGU': 0, 'ACCA': 5, 'ACCG': 1, 'ACCC': 4, 'ACCU': 3, 'ACUA': 2, 'ACUG': 3, 'ACUC': 5, 'ACUU': 1, 'AUAA': 1, 'AUAG': 1, 'AUAC': 3, 'AUAU': 1, 'AUGA': 4, 'AUGG': 1, 'AUGC': 3, 'AUGU': 0, 'AUCA': 7, 'AUCG': 0, 'AUCC': 2, 'AUCU': 4, 'AUUA': 0, 'AUUG': 2, 'AUUC': 6, 'AUUU': 1, 'GAAA': 4, 'GAAG': 7, 'GAAC': 2, 'GAAU': 2, 'GAGA': 7, 'GAGG': 4, 'GAGC': 5, 'GAGU': 2, 'GACA': 5, 'GACG': 0, 'GACC': 0, 'GACU': 3, 'GAUA': 1, 'GAUG': 2, 'GAUC': 4, 'GAUU': 4, 'GGAA': 3, 'GGAG': 7, 'GGAC': 3, 'GGAU': 4, 'GGGA': 6, 'GGGG': 1, 'GGGC': 1, 'GGGU': 0, 'GGCA': 2, 'GGCG': 0, 'GGCC': 6, 'GGCU': 3, 'GGUA': 1, 'GGUG': 0, 'GGUC': 1, 'GGUU': 0, 'GCAA': 6, 'GCAG': 5, 'GCAC': 2, 'GCAU': 2, 'GCGA': 1, 'GCGG': 0, 'GCGC': 0, 'GCGU': 0, 'GCCA': 6, 'GCCG': 1, 'GCCC': 4, 'GCCU': 2, 'GCUA': 1, 'GCUG': 5, 'GCUC': 5, 'GCUU': 3, 'GUAA': 1, 'GUAG': 0, 'GUAC': 1, 'GUAU': 1, 'GUGA': 2, 'GUGG': 0, 'GUGC': 1, 'GUGU': 1, 'GUCA': 3, 'GUCG': 0, 'GUCC': 2, 'GUCU': 4, 'GUUA': 1, 'GUUG': 1, 'GUUC': 0, 'GUUU': 0, 'CAAA': 3, 'CAAG': 4, 'CAAC': 6, 'CAAU': 1, 'CAGA': 4, 'CAGG': 9, 'CAGC': 9, 'CAGU': 3, 'CACA': 2, 'CACG': 0, 'CACC': 6, 'CACU': 3, 'CAUA': 2, 'CAUG': 3, 'CAUC': 5, 'CAUU': 4, 'CGAA': 1, 'CGAG': 3, 'CGAC': 0, 'CGAU': 0, 'CGGA': 0, 'CGGG': 2, 'CGGC': 2, 'CGGU': 1, 'CGCA': 0, 'CGCG': 0, 'CGCC': 1, 'CGCU': 1, 'CGUA': 0, 'CGUG': 0, 'CGUC': 0, 'CGUU': 0, 'CCAA': 6, 'CCAG': 9, 'CCAC': 2, 'CCAU': 6, 'CCGA': 1, 'CCGG': 3, 'CCGC': 1, 'CCGU': 0, 'CCCA': 8, 'CCCG': 2, 'CCCC': 3, 'CCCU': 4, 'CCUA': 2, 'CCUG': 5, 'CCUC': 4, 'CCUU': 1, 'CUAA': 3, 'CUAG': 0, 'CUAC': 2, 'CUAU': 1, 'CUGA': 5, 'CUGG': 5, 'CUGC': 4, 'CUGU': 3, 'CUCA': 7, 'CUCG': 2, 'CUCC': 6, 'CUCU': 3, 'CUUA': 2, 'CUUG': 3, 'CUUC': 3, 'CUUU': 2, 'UAAA': 3, 'UAAG': 2, 'UAAC': 0, 'UAAU': 0, 'UAGA': 0, 'UAGG': 0, 'UAGC': 0, 'UAGU': 1, 'UACA': 2, 'UACG': 2, 'UACC': 3, 'UACU': 1, 'UAUA': 0, 'UAUG': 2, 'UAUC': 2, 'UAUU': 1, 'UGAA': 3, 'UGAG': 3, 'UGAC': 5, 'UGAU': 4, 'UGGA': 4, 'UGGG': 1, 'UGGC': 1, 'UGGU': 0, 'UGCA': 4, 'UGCG': 0, 'UGCC': 2, 'UGCU': 3, 'UGUA': 0, 'UGUG': 1, 'UGUC': 4, 'UGUU': 2, 'UCAA': 2, 'UCAG': 10, 'UCAC': 4, 'UCAU': 4, 'UCGA': 1, 'UCGG': 1, 'UCGC': 1, 'UCGU': 0, 'UCCA': 4, 'UCCG': 1, 'UCCC': 6, 'UCCU': 3, 'UCUA': 1, 'UCUG': 4, 'UCUC': 4, 'UCUU': 5, 'UUAA': 0, 'UUAG': 0, 'UUAC': 1, 'UUAU': 2, 'UUGA': 4, 'UUGG': 0, 'UUGC': 1, 'UUGU': 3, 'UUCA': 2, 'UUCG': 1, 'UUCC': 4, 'UUCU': 3, 'UUUA': 0, 'UUUG': 2, 'UUUC': 1, 'UUUU': 1},\n",
       "       {'AAAA': 0, 'AAAG': 1, 'AAAC': 5, 'AAAU': 3, 'AAGA': 2, 'AAGG': 2, 'AAGC': 3, 'AAGU': 1, 'AACA': 9, 'AACG': 3, 'AACC': 4, 'AACU': 4, 'AAUA': 1, 'AAUG': 5, 'AAUC': 2, 'AAUU': 3, 'AGAA': 2, 'AGAG': 2, 'AGAC': 3, 'AGAU': 0, 'AGGA': 5, 'AGGG': 5, 'AGGC': 4, 'AGGU': 4, 'AGCA': 25, 'AGCG': 2, 'AGCC': 9, 'AGCU': 18, 'AGUA': 3, 'AGUG': 4, 'AGUC': 4, 'AGUU': 7, 'ACAA': 5, 'ACAG': 12, 'ACAC': 7, 'ACAU': 6, 'ACGA': 0, 'ACGG': 4, 'ACGC': 0, 'ACGU': 1, 'ACCA': 8, 'ACCG': 0, 'ACCC': 7, 'ACCU': 5, 'ACUA': 3, 'ACUG': 4, 'ACUC': 4, 'ACUU': 1, 'AUAA': 3, 'AUAG': 0, 'AUAC': 1, 'AUAU': 0, 'AUGA': 1, 'AUGG': 5, 'AUGC': 5, 'AUGU': 1, 'AUCA': 4, 'AUCG': 2, 'AUCC': 7, 'AUCU': 0, 'AUUA': 2, 'AUUG': 2, 'AUUC': 5, 'AUUU': 2, 'GAAA': 1, 'GAAG': 1, 'GAAC': 5, 'GAAU': 2, 'GAGA': 1, 'GAGG': 3, 'GAGC': 5, 'GAGU': 2, 'GACA': 9, 'GACG': 1, 'GACC': 10, 'GACU': 3, 'GAUA': 0, 'GAUG': 0, 'GAUC': 3, 'GAUU': 2, 'GGAA': 4, 'GGAG': 6, 'GGAC': 11, 'GGAU': 5, 'GGGA': 6, 'GGGG': 1, 'GGGC': 2, 'GGGU': 1, 'GGCA': 9, 'GGCG': 2, 'GGCC': 2, 'GGCU': 5, 'GGUA': 1, 'GGUG': 3, 'GGUC': 4, 'GGUU': 4, 'GCAA': 8, 'GCAG': 26, 'GCAC': 3, 'GCAU': 4, 'GCGA': 2, 'GCGG': 0, 'GCGC': 4, 'GCGU': 1, 'GCCA': 6, 'GCCG': 5, 'GCCC': 10, 'GCCU': 4, 'GCUA': 1, 'GCUG': 17, 'GCUC': 11, 'GCUU': 6, 'GUAA': 0, 'GUAG': 3, 'GUAC': 0, 'GUAU': 3, 'GUGA': 4, 'GUGG': 6, 'GUGC': 1, 'GUGU': 1, 'GUCA': 2, 'GUCG': 0, 'GUCC': 4, 'GUCU': 5, 'GUUA': 2, 'GUUG': 4, 'GUUC': 6, 'GUUU': 5, 'CAAA': 7, 'CAAG': 5, 'CAAC': 8, 'CAAU': 3, 'CAGA': 4, 'CAGG': 11, 'CAGC': 39, 'CAGU': 12, 'CACA': 10, 'CACG': 0, 'CACC': 4, 'CACU': 3, 'CAUA': 1, 'CAUG': 3, 'CAUC': 7, 'CAUU': 5, 'CGAA': 0, 'CGAG': 2, 'CGAC': 2, 'CGAU': 0, 'CGGA': 3, 'CGGG': 0, 'CGGC': 3, 'CGGU': 2, 'CGCA': 2, 'CGCG': 1, 'CGCC': 4, 'CGCU': 5, 'CGUA': 0, 'CGUG': 3, 'CGUC': 1, 'CGUU': 1, 'CCAA': 8, 'CCAG': 17, 'CCAC': 4, 'CCAU': 3, 'CCGA': 0, 'CCGG': 1, 'CCGC': 7, 'CCGU': 3, 'CCCA': 12, 'CCCG': 3, 'CCCC': 10, 'CCCU': 14, 'CCUA': 3, 'CCUG': 11, 'CCUC': 9, 'CCUU': 10, 'CUAA': 3, 'CUAG': 2, 'CUAC': 3, 'CUAU': 1, 'CUGA': 2, 'CUGG': 13, 'CUGC': 16, 'CUGU': 5, 'CUCA': 6, 'CUCG': 1, 'CUCC': 16, 'CUCU': 8, 'CUUA': 3, 'CUUG': 10, 'CUUC': 5, 'CUUU': 6, 'UAAA': 1, 'UAAG': 1, 'UAAC': 2, 'UAAU': 3, 'UAGA': 0, 'UAGG': 2, 'UAGC': 4, 'UAGU': 3, 'UACA': 2, 'UACG': 1, 'UACC': 1, 'UACU': 2, 'UAUA': 2, 'UAUG': 4, 'UAUC': 1, 'UAUU': 1, 'UGAA': 3, 'UGAG': 0, 'UGAC': 7, 'UGAU': 0, 'UGGA': 13, 'UGGG': 4, 'UGGC': 9, 'UGGU': 4, 'UGCA': 9, 'UGCG': 2, 'UGCC': 10, 'UGCU': 6, 'UGUA': 2, 'UGUG': 2, 'UGUC': 2, 'UGUU': 5, 'UCAA': 2, 'UCAG': 10, 'UCAC': 4, 'UCAU': 3, 'UCGA': 2, 'UCGG': 3, 'UCGC': 1, 'UCGU': 0, 'UCCA': 6, 'UCCG': 3, 'UCCC': 12, 'UCCU': 10, 'UCUA': 2, 'UCUG': 4, 'UCUC': 7, 'UCUU': 7, 'UUAA': 1, 'UUAG': 4, 'UUAC': 2, 'UUAU': 4, 'UUGA': 3, 'UUGG': 8, 'UUGC': 5, 'UUGU': 4, 'UUCA': 7, 'UUCG': 3, 'UUCC': 5, 'UUCU': 6, 'UUUA': 4, 'UUUG': 4, 'UUUC': 5, 'UUUU': 4},\n",
       "       {'AAAA': 1, 'AAAG': 1, 'AAAC': 0, 'AAAU': 0, 'AAGA': 3, 'AAGG': 2, 'AAGC': 3, 'AAGU': 1, 'AACA': 2, 'AACG': 1, 'AACC': 0, 'AACU': 1, 'AAUA': 0, 'AAUG': 2, 'AAUC': 2, 'AAUU': 2, 'AGAA': 4, 'AGAG': 2, 'AGAC': 6, 'AGAU': 3, 'AGGA': 4, 'AGGG': 1, 'AGGC': 2, 'AGGU': 1, 'AGCA': 4, 'AGCG': 0, 'AGCC': 5, 'AGCU': 5, 'AGUA': 0, 'AGUG': 3, 'AGUC': 3, 'AGUU': 2, 'ACAA': 2, 'ACAG': 5, 'ACAC': 1, 'ACAU': 3, 'ACGA': 0, 'ACGG': 1, 'ACGC': 0, 'ACGU': 0, 'ACCA': 0, 'ACCG': 1, 'ACCC': 5, 'ACCU': 2, 'ACUA': 0, 'ACUG': 4, 'ACUC': 1, 'ACUU': 1, 'AUAA': 0, 'AUAG': 1, 'AUAC': 0, 'AUAU': 2, 'AUGA': 4, 'AUGG': 3, 'AUGC': 2, 'AUGU': 2, 'AUCA': 2, 'AUCG': 1, 'AUCC': 1, 'AUCU': 1, 'AUUA': 0, 'AUUG': 2, 'AUUC': 1, 'AUUU': 1, 'GAAA': 1, 'GAAG': 4, 'GAAC': 2, 'GAAU': 4, 'GAGA': 4, 'GAGG': 1, 'GAGC': 2, 'GAGU': 3, 'GACA': 3, 'GACG': 0, 'GACC': 4, 'GACU': 4, 'GAUA': 1, 'GAUG': 4, 'GAUC': 0, 'GAUU': 0, 'GGAA': 2, 'GGAG': 4, 'GGAC': 3, 'GGAU': 1, 'GGGA': 3, 'GGGG': 3, 'GGGC': 2, 'GGGU': 0, 'GGCA': 6, 'GGCG': 1, 'GGCC': 2, 'GGCU': 2, 'GGUA': 0, 'GGUG': 1, 'GGUC': 2, 'GGUU': 0, 'GCAA': 1, 'GCAG': 5, 'GCAC': 2, 'GCAU': 3, 'GCGA': 0, 'GCGG': 1, 'GCGC': 0, 'GCGU': 0, 'GCCA': 6, 'GCCG': 1, 'GCCC': 5, 'GCCU': 2, 'GCUA': 2, 'GCUG': 3, 'GCUC': 2, 'GCUU': 4, 'GUAA': 1, 'GUAG': 0, 'GUAC': 1, 'GUAU': 0, 'GUGA': 1, 'GUGG': 5, 'GUGC': 4, 'GUGU': 4, 'GUCA': 2, 'GUCG': 2, 'GUCC': 5, 'GUCU': 1, 'GUUA': 0, 'GUUG': 1, 'GUUC': 1, 'GUUU': 1, 'CAAA': 0, 'CAAG': 5, 'CAAC': 0, 'CAAU': 2, 'CAGA': 8, 'CAGG': 5, 'CAGC': 7, 'CAGU': 4, 'CACA': 4, 'CACG': 0, 'CACC': 3, 'CACU': 0, 'CAUA': 2, 'CAUG': 4, 'CAUC': 2, 'CAUU': 2, 'CGAA': 1, 'CGAG': 2, 'CGAC': 0, 'CGAU': 0, 'CGGA': 1, 'CGGG': 1, 'CGGC': 1, 'CGGU': 0, 'CGCA': 0, 'CGCG': 0, 'CGCC': 0, 'CGCU': 0, 'CGUA': 0, 'CGUG': 0, 'CGUC': 2, 'CGUU': 0, 'CCAA': 2, 'CCAG': 8, 'CCAC': 2, 'CCAU': 4, 'CCGA': 2, 'CCGG': 0, 'CCGC': 0, 'CCGU': 1, 'CCCA': 5, 'CCCG': 1, 'CCCC': 4, 'CCCU': 5, 'CCUA': 0, 'CCUG': 10, 'CCUC': 4, 'CCUU': 0, 'CUAA': 1, 'CUAG': 0, 'CUAC': 1, 'CUAU': 0, 'CUGA': 1, 'CUGG': 3, 'CUGC': 6, 'CUGU': 7, 'CUCA': 4, 'CUCG': 0, 'CUCC': 4, 'CUCU': 2, 'CUUA': 1, 'CUUG': 3, 'CUUC': 0, 'CUUU': 2, 'UAAA': 0, 'UAAG': 0, 'UAAC': 2, 'UAAU': 0, 'UAGA': 0, 'UAGG': 0, 'UAGC': 2, 'UAGU': 0, 'UACA': 2, 'UACG': 0, 'UACC': 1, 'UACU': 1, 'UAUA': 0, 'UAUG': 1, 'UAUC': 1, 'UAUU': 0, 'UGAA': 4, 'UGAG': 2, 'UGAC': 2, 'UGAU': 1, 'UGGA': 2, 'UGGG': 3, 'UGGC': 6, 'UGGU': 2, 'UGCA': 2, 'UGCG': 0, 'UGCC': 6, 'UGCU': 4, 'UGUA': 2, 'UGUG': 9, 'UGUC': 3, 'UGUU': 1, 'UCAA': 2, 'UCAG': 5, 'UCAC': 2, 'UCAU': 0, 'UCGA': 1, 'UCGG': 1, 'UCGC': 0, 'UCGU': 1, 'UCCA': 5, 'UCCG': 0, 'UCCC': 1, 'UCCU': 5, 'UCUA': 0, 'UCUG': 0, 'UCUC': 2, 'UCUU': 1, 'UUAA': 0, 'UUAG': 1, 'UUAC': 2, 'UUAU': 0, 'UUGA': 3, 'UUGG': 2, 'UUGC': 0, 'UUGU': 3, 'UUCA': 1, 'UUCG': 0, 'UUCC': 1, 'UUCU': 0, 'UUUA': 2, 'UUUG': 2, 'UUUC': 0, 'UUUU': 1}],\n",
       "      dtype=object)"
      ]
     },
     "execution_count": 7,
     "metadata": {},
     "output_type": "execute_result"
    }
   ],
   "source": [
    "np.load(\"dataset/vector_array.npy\", allow_pickle=True)"
   ]
  }
 ],
 "metadata": {
  "kernelspec": {
   "display_name": ".venv",
   "language": "python",
   "name": "python3"
  },
  "language_info": {
   "codemirror_mode": {
    "name": "ipython",
    "version": 3
   },
   "file_extension": ".py",
   "mimetype": "text/x-python",
   "name": "python",
   "nbconvert_exporter": "python",
   "pygments_lexer": "ipython3",
   "version": "3.10.7"
  }
 },
 "nbformat": 4,
 "nbformat_minor": 2
}
