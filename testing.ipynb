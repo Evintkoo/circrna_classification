{
 "cells": [
  {
   "cell_type": "code",
   "execution_count": 1,
   "metadata": {},
   "outputs": [],
   "source": [
    "from kmer_counting import sequence2matrix\n",
    "import numpy as np \n",
    "import pandas as pd\n",
    "import os\n",
    "import matplotlib.pyplot as plt\n",
    "import math\n",
    "import copy\n",
    "from typing import List\n",
    "import tqdm\n",
    "from sklearn.model_selection import train_test_split\n",
    "import imblearn\n",
    "\n",
    "import torch\n",
    "import torch.nn as nn\n",
    "import torch.optim as optim\n",
    "import torch.utils.data as data\n",
    "from torcheval.metrics import MulticlassAccuracy\n",
    "\n",
    "from torchinfo import summary"
   ]
  },
  {
   "cell_type": "code",
   "execution_count": 2,
   "metadata": {},
   "outputs": [],
   "source": [
    "class detection_model(nn.Module):\n",
    "    def __init__(self):\n",
    "        super(detection_model, self).__init__()\n",
    "\n",
    "        #Defining the layers\n",
    "        self.layer1 = nn.Linear(256, 64, bias=True)\n",
    "        self.activationlayer1 = nn.LeakyReLU()\n",
    "        self.layer2 = nn.Linear(64, 64, bias=True)\n",
    "        self.activationlayer2 = nn.LeakyReLU()\n",
    "        self.layer3 = nn.Linear(64, 32, bias=True)\n",
    "        self.activationlayer3 = nn.LeakyReLU()\n",
    "        self.layer4 = nn.Linear(32, 16, bias=True)\n",
    "        self.activationlayer4 = nn.LeakyReLU()\n",
    "        self.ouput = nn.Linear(16, 1, bias=True)\n",
    "        # for classification\n",
    "        self.outputactivation = nn.Sigmoid()\n",
    "        # for predicition\n",
    "        #self.outputactivation = nn.Hardtanh(min_val=min_val, max_val=max_val)\n",
    "    \n",
    "    def forward(self, x):\n",
    "        x = self.layer1(x)\n",
    "        x = self.activationlayer1(x)\n",
    "        x = self.layer2(x)\n",
    "        x = self.activationlayer2(x)\n",
    "        x = self.layer3(x)\n",
    "        x = self.activationlayer3(x)\n",
    "        x = self.layer4(x)\n",
    "        x = self.activationlayer4(x)\n",
    "        x = self.ouput(x)\n",
    "        x = self.outputactivation(x)\n",
    "        return x"
   ]
  },
  {
   "cell_type": "code",
   "execution_count": 3,
   "metadata": {},
   "outputs": [],
   "source": [
    "class classification_model(nn.Module):\n",
    "    def __init__(self, input_size, output_size, hidden_dim):\n",
    "        super(classification_model, self).__init__()\n",
    "\n",
    "        # Defining some parameters\n",
    "        self.hidden_dim = hidden_dim\n",
    "\n",
    "        #Defining the layers\n",
    "        self.dropoutlayer = nn.Dropout(0.5)\n",
    "        self.layer1 = nn.Linear(input_size, hidden_dim, bias=True)\n",
    "        self.activationlayer1 = nn.LeakyReLU()\n",
    "        self.layer2 = nn.Linear(hidden_dim, hidden_dim, bias=True)\n",
    "        self.activationlayer2 = nn.LeakyReLU()\n",
    "        self.layer3 = nn.Linear(hidden_dim, hidden_dim, bias=True)\n",
    "        self.activationlayer3 = nn.LeakyReLU()\n",
    "        self.layer4 = nn.Linear(hidden_dim, int(hidden_dim/2), bias=True)\n",
    "        self.activationlayer4 = nn.LeakyReLU()\n",
    "        self.layer5= nn.Linear(int(hidden_dim/2), int(hidden_dim/4), bias=True)\n",
    "        self.activationlayer5 = nn.LeakyReLU()\n",
    "        self.ouput = nn.Linear(int(hidden_dim/4), output_size, bias=True)\n",
    "        # for classification\n",
    "        self.outputactivation = nn.LogSoftmax(dim=1)\n",
    "        # for predicition\n",
    "        #self.outputactivation = nn.Hardtanh(min_val=min_val, max_val=max_val)\n",
    "    \n",
    "    def forward(self, x):\n",
    "        x = self.layer1(x)\n",
    "        x = self.dropoutlayer(x)\n",
    "        x = self.activationlayer1(x)\n",
    "        x = self.layer2(x)\n",
    "        x = self.dropoutlayer(x)\n",
    "        x = self.activationlayer2(x)\n",
    "        x = self.layer3(x)\n",
    "        x = self.dropoutlayer(x)\n",
    "        x = self.activationlayer3(x)\n",
    "        x = self.layer4(x)\n",
    "        x = self.dropoutlayer(x)\n",
    "        x = self.activationlayer4(x)\n",
    "        x = self.layer5(x)\n",
    "        x = self.dropoutlayer(x)\n",
    "        x = self.activationlayer5(x)\n",
    "        x = self.ouput(x)\n",
    "        x = self.outputactivation(x)\n",
    "        return x"
   ]
  },
  {
   "cell_type": "code",
   "execution_count": 7,
   "metadata": {},
   "outputs": [
    {
     "data": {
      "text/html": [
       "<div>\n",
       "<style scoped>\n",
       "    .dataframe tbody tr th:only-of-type {\n",
       "        vertical-align: middle;\n",
       "    }\n",
       "\n",
       "    .dataframe tbody tr th {\n",
       "        vertical-align: top;\n",
       "    }\n",
       "\n",
       "    .dataframe thead th {\n",
       "        text-align: right;\n",
       "    }\n",
       "</style>\n",
       "<table border=\"1\" class=\"dataframe\">\n",
       "  <thead>\n",
       "    <tr style=\"text-align: right;\">\n",
       "      <th></th>\n",
       "      <th>type</th>\n",
       "      <th>strand</th>\n",
       "    </tr>\n",
       "  </thead>\n",
       "  <tbody>\n",
       "    <tr>\n",
       "      <th>0</th>\n",
       "      <td>intergenic</td>\n",
       "      <td>GTGCAGTGTGCAGTGCAGGCTTGAACCTGCAGGGGTCCCCCAGGAG...</td>\n",
       "    </tr>\n",
       "    <tr>\n",
       "      <th>1</th>\n",
       "      <td>intergenic</td>\n",
       "      <td>AGACAGGAGGTCTCCCTACGTTATCTTGGCTGACTTCTAACTTCCG...</td>\n",
       "    </tr>\n",
       "    <tr>\n",
       "      <th>2</th>\n",
       "      <td>intergenic</td>\n",
       "      <td>AAATATTTCTATTAGGCCACTGCAAAAGTAACTGCAAAAACCACAA...</td>\n",
       "    </tr>\n",
       "    <tr>\n",
       "      <th>3</th>\n",
       "      <td>intergenic</td>\n",
       "      <td>CCATGCAGGGATCTGCCTTCCTGTGGAATGATCTCCAATGATCTTC...</td>\n",
       "    </tr>\n",
       "    <tr>\n",
       "      <th>4</th>\n",
       "      <td>intergenic</td>\n",
       "      <td>GGTCTCACTGTCGCCCAGGCTGAAGTGCAGTGGCGTGATCACGGCT...</td>\n",
       "    </tr>\n",
       "    <tr>\n",
       "      <th>...</th>\n",
       "      <td>...</td>\n",
       "      <td>...</td>\n",
       "    </tr>\n",
       "    <tr>\n",
       "      <th>3235</th>\n",
       "      <td>non_circular</td>\n",
       "      <td>GTGCTTGCTCCAGTAGCACATATTCTAAAATTGGAATGATACAGAG...</td>\n",
       "    </tr>\n",
       "    <tr>\n",
       "      <th>3236</th>\n",
       "      <td>non_circular</td>\n",
       "      <td>GTGCATACTTTGGCAGCACATATACTAAAATTGGAATGATACAGAG...</td>\n",
       "    </tr>\n",
       "    <tr>\n",
       "      <th>3237</th>\n",
       "      <td>non_circular</td>\n",
       "      <td>GGTCCTAAAGGAACATCTGATAAAATTAGAACGATATAAAGAAGAT...</td>\n",
       "    </tr>\n",
       "    <tr>\n",
       "      <th>3238</th>\n",
       "      <td>non_circular</td>\n",
       "      <td>GTGCTCGCTTCAGCAGCACATATACTAAAATTGGAACGATACAGAG...</td>\n",
       "    </tr>\n",
       "    <tr>\n",
       "      <th>3239</th>\n",
       "      <td>non_circular</td>\n",
       "      <td>GTGCTCACTTTAACATCACATATGCTAACAATTGGAAAGATACAGA...</td>\n",
       "    </tr>\n",
       "  </tbody>\n",
       "</table>\n",
       "<p>3240 rows × 2 columns</p>\n",
       "</div>"
      ],
      "text/plain": [
       "              type                                             strand\n",
       "0       intergenic  GTGCAGTGTGCAGTGCAGGCTTGAACCTGCAGGGGTCCCCCAGGAG...\n",
       "1       intergenic  AGACAGGAGGTCTCCCTACGTTATCTTGGCTGACTTCTAACTTCCG...\n",
       "2       intergenic  AAATATTTCTATTAGGCCACTGCAAAAGTAACTGCAAAAACCACAA...\n",
       "3       intergenic  CCATGCAGGGATCTGCCTTCCTGTGGAATGATCTCCAATGATCTTC...\n",
       "4       intergenic  GGTCTCACTGTCGCCCAGGCTGAAGTGCAGTGGCGTGATCACGGCT...\n",
       "...            ...                                                ...\n",
       "3235  non_circular  GTGCTTGCTCCAGTAGCACATATTCTAAAATTGGAATGATACAGAG...\n",
       "3236  non_circular  GTGCATACTTTGGCAGCACATATACTAAAATTGGAATGATACAGAG...\n",
       "3237  non_circular  GGTCCTAAAGGAACATCTGATAAAATTAGAACGATATAAAGAAGAT...\n",
       "3238  non_circular  GTGCTCGCTTCAGCAGCACATATACTAAAATTGGAACGATACAGAG...\n",
       "3239  non_circular  GTGCTCACTTTAACATCACATATGCTAACAATTGGAAAGATACAGA...\n",
       "\n",
       "[3240 rows x 2 columns]"
      ]
     },
     "execution_count": 7,
     "metadata": {},
     "output_type": "execute_result"
    }
   ],
   "source": [
    "df = pd.read_csv(\"test_data/classes.csv\")\n",
    "df"
   ]
  },
  {
   "cell_type": "code",
   "execution_count": 8,
   "metadata": {},
   "outputs": [
    {
     "data": {
      "text/plain": [
       "((3240,), (3240,))"
      ]
     },
     "execution_count": 8,
     "metadata": {},
     "output_type": "execute_result"
    }
   ],
   "source": [
    "X = df[\"strand\"].values\n",
    "y = df[\"type\"].values\n",
    "X.shape, y.shape"
   ]
  },
  {
   "cell_type": "code",
   "execution_count": 142,
   "metadata": {},
   "outputs": [],
   "source": [
    "converter = sequence2matrix(k_val=4)\n",
    "matrix = converter.fit(X, save_dir=\"dataset/multiclass_data2\")"
   ]
  },
  {
   "cell_type": "code",
   "execution_count": null,
   "metadata": {},
   "outputs": [],
   "source": [
    "np.save(\"dataset/rna_vector_test\", matrix)"
   ]
  },
  {
   "cell_type": "markdown",
   "metadata": {},
   "source": [
    "### Testing Model"
   ]
  },
  {
   "cell_type": "code",
   "execution_count": 9,
   "metadata": {},
   "outputs": [
    {
     "name": "stderr",
     "output_type": "stream",
     "text": [
      "3240it [00:00, 359978.41it/s]\n"
     ]
    },
    {
     "data": {
      "text/plain": [
       "((3238, 256), (3238,))"
      ]
     },
     "execution_count": 9,
     "metadata": {},
     "output_type": "execute_result"
    }
   ],
   "source": [
    "matrix = np.load(\"dataset/rna_vector_test.npy\",allow_pickle=True)\n",
    "new_X = []\n",
    "new_y = []\n",
    "for i, j in tqdm.tqdm(zip(matrix,y)):\n",
    "    if i != 0:\n",
    "        new_X.append([*i.values()])\n",
    "        new_y.append(j)\n",
    "new_X = np.array(new_X)\n",
    "new_y = np.array(new_y)\n",
    "new_X.shape, new_y.shape"
   ]
  },
  {
   "cell_type": "code",
   "execution_count": 10,
   "metadata": {},
   "outputs": [
    {
     "name": "stdout",
     "output_type": "stream",
     "text": [
      "using cuda:0\n"
     ]
    }
   ],
   "source": [
    "if torch.cuda.is_available(): \n",
    "    dev = \"cuda:0\" \n",
    "else: \n",
    "    dev = \"cpu\" \n",
    "device = torch.device(dev) \n",
    "print(\"using\", device)\n",
    "torch.backends.cudnn.benchmark = True"
   ]
  },
  {
   "cell_type": "code",
   "execution_count": 11,
   "metadata": {},
   "outputs": [],
   "source": [
    "tensor_x_train = torch.tensor(new_X).to(device)\n",
    "#tensor_y_train = torch.tensor(y_train).to(device)"
   ]
  },
  {
   "cell_type": "code",
   "execution_count": 21,
   "metadata": {},
   "outputs": [
    {
     "data": {
      "text/plain": [
       "torch.Size([3238, 1])"
      ]
     },
     "execution_count": 21,
     "metadata": {},
     "output_type": "execute_result"
    }
   ],
   "source": [
    "det_model = detection_model().to(device)\n",
    "det_model.load_state_dict(torch.load(\"models\\model_0\\epoch_49\"))\n",
    "det_model_output = det_model(tensor_x_train.cuda().float())\n",
    "det_model_output.shape"
   ]
  },
  {
   "cell_type": "code",
   "execution_count": 37,
   "metadata": {},
   "outputs": [
    {
     "data": {
      "text/plain": [
       "torch.Size([3238, 8])"
      ]
     },
     "execution_count": 37,
     "metadata": {},
     "output_type": "execute_result"
    }
   ],
   "source": [
    "model_path = \"models\\multiclass_model_0\\epoch_x\"\n",
    "class_model = classification_model(256, 8, 2048).to(device)\n",
    "class_model.load_state_dict(torch.load(model_path))\n",
    "class_model_output = class_model(tensor_x_train.cuda().float())\n",
    "class_model_output.shape"
   ]
  },
  {
   "cell_type": "code",
   "execution_count": 38,
   "metadata": {},
   "outputs": [],
   "source": [
    "det_converter = {\n",
    "    \"circ_rna\": 0,\n",
    "    \"non_circ_rna\":1\n",
    "}\n",
    "class_converter = {\n",
    "    'BIRC6':0, \n",
    "    'MACF1':1, \n",
    "    'MALAT1':2, \n",
    "    'RYR2':3, \n",
    "    'SNHG14':4, \n",
    "    'TTN':5, \n",
    "    'USP34':6,\n",
    "    'intergenic':7\n",
    "}"
   ]
  },
  {
   "cell_type": "code",
   "execution_count": 39,
   "metadata": {},
   "outputs": [
    {
     "data": {
      "text/plain": [
       "{0: 'circ_rna', 1: 'non_circ_rna'}"
      ]
     },
     "execution_count": 39,
     "metadata": {},
     "output_type": "execute_result"
    }
   ],
   "source": [
    "inverse_class_converter = dict((v,k) for k,v in class_converter.items())\n",
    "inverse_det_converter = dict((v,k) for k,v in det_converter.items())\n",
    "inverse_det_converter"
   ]
  },
  {
   "cell_type": "code",
   "execution_count": 40,
   "metadata": {},
   "outputs": [
    {
     "data": {
      "text/plain": [
       "{0: 'BIRC6',\n",
       " 1: 'MACF1',\n",
       " 2: 'MALAT1',\n",
       " 3: 'RYR2',\n",
       " 4: 'SNHG14',\n",
       " 5: 'TTN',\n",
       " 6: 'USP34',\n",
       " 7: 'intergenic'}"
      ]
     },
     "execution_count": 40,
     "metadata": {},
     "output_type": "execute_result"
    }
   ],
   "source": [
    "inverse_class_converter"
   ]
  },
  {
   "cell_type": "code",
   "execution_count": 41,
   "metadata": {},
   "outputs": [],
   "source": [
    "y_true = new_y"
   ]
  },
  {
   "cell_type": "code",
   "execution_count": 42,
   "metadata": {},
   "outputs": [],
   "source": [
    "res = []\n",
    "for i,j,k in zip(y_true, det_model_output,class_model_output):\n",
    "    true_label = i\n",
    "    det_label = 0 if abs(1-j.item()) > abs(j.item()-0) else 1\n",
    "    det_label = inverse_det_converter[det_label]\n",
    "    class_label = inverse_class_converter[torch.argmax(k).item()]\n",
    "    if det_label == \"non_circ_rna\":\n",
    "        res.append(\"non_circular\")\n",
    "    else:\n",
    "        res.append(class_label)"
   ]
  },
  {
   "cell_type": "code",
   "execution_count": 43,
   "metadata": {},
   "outputs": [],
   "source": [
    "from sklearn import metrics"
   ]
  },
  {
   "cell_type": "code",
   "execution_count": 44,
   "metadata": {},
   "outputs": [
    {
     "data": {
      "text/plain": [
       "(3238,)"
      ]
     },
     "execution_count": 44,
     "metadata": {},
     "output_type": "execute_result"
    }
   ],
   "source": [
    "y_true.shape"
   ]
  },
  {
   "cell_type": "code",
   "execution_count": 45,
   "metadata": {},
   "outputs": [],
   "source": [
    "import seaborn as sns"
   ]
  },
  {
   "cell_type": "code",
   "execution_count": 46,
   "metadata": {},
   "outputs": [],
   "source": [
    "confussion_matrix = metrics.confusion_matrix(y_true, res)"
   ]
  },
  {
   "cell_type": "code",
   "execution_count": 47,
   "metadata": {},
   "outputs": [
    {
     "data": {
      "text/plain": [
       "<Axes: >"
      ]
     },
     "execution_count": 47,
     "metadata": {},
     "output_type": "execute_result"
    },
    {
     "data": {
      "image/png": "[encoded data removed]",
      "text/plain": [
       "<Figure size 640x480 with 2 Axes>"
      ]
     },
     "metadata": {},
     "output_type": "display_data"
    }
   ],
   "source": [
    "sns.heatmap(metrics.confusion_matrix(y_true, res), annot=True)"
   ]
  },
  {
   "cell_type": "code",
   "execution_count": 48,
   "metadata": {},
   "outputs": [
    {
     "name": "stdout",
     "output_type": "stream",
     "text": [
      "              precision    recall  f1-score   support\n",
      "\n",
      "       BIRC6       0.51      0.11      0.18       360\n",
      "       MACF1       0.65      0.38      0.48       360\n",
      "      MALAT1       0.93      0.45      0.61       360\n",
      "        RYR2       0.33      0.64      0.43       360\n",
      "      SNHG14       0.32      0.86      0.47       360\n",
      "         TTN       0.84      0.37      0.51       360\n",
      "       USP34       0.39      0.41      0.40       360\n",
      "  intergenic       0.39      0.24      0.30       360\n",
      "non_circular       0.99      0.94      0.96       358\n",
      "\n",
      "    accuracy                           0.49      3238\n",
      "   macro avg       0.59      0.49      0.48      3238\n",
      "weighted avg       0.59      0.49      0.48      3238\n",
      "\n"
     ]
    }
   ],
   "source": [
    "print(metrics.classification_report(y_true, res))"
   ]
  },
  {
   "cell_type": "code",
   "execution_count": 49,
   "metadata": {},
   "outputs": [
    {
     "data": {
      "text/plain": [
       "{'BIRC6': {'precision': 0.5128205128205128,\n",
       "  'recall': 0.1111111111111111,\n",
       "  'f1-score': 0.182648401826484,\n",
       "  'support': 360.0},\n",
       " 'MACF1': {'precision': 0.6521739130434783,\n",
       "  'recall': 0.375,\n",
       "  'f1-score': 0.4761904761904762,\n",
       "  'support': 360.0},\n",
       " 'MALAT1': {'precision': 0.9257142857142857,\n",
       "  'recall': 0.45,\n",
       "  'f1-score': 0.6056074766355141,\n",
       "  'support': 360.0},\n",
       " 'RYR2': {'precision': 0.3267605633802817,\n",
       "  'recall': 0.6444444444444445,\n",
       "  'f1-score': 0.43364485981308415,\n",
       "  'support': 360.0},\n",
       " 'SNHG14': {'precision': 0.32116788321167883,\n",
       "  'recall': 0.8555555555555555,\n",
       "  'f1-score': 0.4670204700530705,\n",
       "  'support': 360.0},\n",
       " 'TTN': {'precision': 0.8417721518987342,\n",
       "  'recall': 0.36944444444444446,\n",
       "  'f1-score': 0.5135135135135135,\n",
       "  'support': 360.0},\n",
       " 'USP34': {'precision': 0.3860103626943005,\n",
       "  'recall': 0.41388888888888886,\n",
       "  'f1-score': 0.3994638069705094,\n",
       "  'support': 360.0},\n",
       " 'intergenic': {'precision': 0.38738738738738737,\n",
       "  'recall': 0.2388888888888889,\n",
       "  'f1-score': 0.29553264604810997,\n",
       "  'support': 360.0},\n",
       " 'non_circular': {'precision': 0.9854227405247813,\n",
       "  'recall': 0.9441340782122905,\n",
       "  'f1-score': 0.9643366619115549,\n",
       "  'support': 358.0},\n",
       " 'accuracy': 0.48888202594193947,\n",
       " 'macro avg': {'precision': 0.5932477556306045,\n",
       "  'recall': 0.4891630457272915,\n",
       "  'f1-score': 0.4819953681069241,\n",
       "  'support': 3238.0},\n",
       " 'weighted avg': {'precision': 0.5930055227801448,\n",
       "  'recall': 0.48888202594193947,\n",
       "  'f1-score': 0.48169744266294345,\n",
       "  'support': 3238.0}}"
      ]
     },
     "execution_count": 49,
     "metadata": {},
     "output_type": "execute_result"
    }
   ],
   "source": [
    "data = metrics.classification_report(y_true, res, output_dict=True)\n",
    "data"
   ]
  },
  {
   "cell_type": "code",
   "execution_count": 50,
   "metadata": {},
   "outputs": [
    {
     "data": {
      "text/html": [
       "<div>\n",
       "<style scoped>\n",
       "    .dataframe tbody tr th:only-of-type {\n",
       "        vertical-align: middle;\n",
       "    }\n",
       "\n",
       "    .dataframe tbody tr th {\n",
       "        vertical-align: top;\n",
       "    }\n",
       "\n",
       "    .dataframe thead th {\n",
       "        text-align: right;\n",
       "    }\n",
       "</style>\n",
       "<table border=\"1\" class=\"dataframe\">\n",
       "  <thead>\n",
       "    <tr style=\"text-align: right;\">\n",
       "      <th></th>\n",
       "      <th>precision</th>\n",
       "      <th>recall</th>\n",
       "      <th>f1-score</th>\n",
       "      <th>support</th>\n",
       "    </tr>\n",
       "  </thead>\n",
       "  <tbody>\n",
       "    <tr>\n",
       "      <th>BIRC6</th>\n",
       "      <td>0.512821</td>\n",
       "      <td>0.111111</td>\n",
       "      <td>0.182648</td>\n",
       "      <td>360.000000</td>\n",
       "    </tr>\n",
       "    <tr>\n",
       "      <th>MACF1</th>\n",
       "      <td>0.652174</td>\n",
       "      <td>0.375000</td>\n",
       "      <td>0.476190</td>\n",
       "      <td>360.000000</td>\n",
       "    </tr>\n",
       "    <tr>\n",
       "      <th>MALAT1</th>\n",
       "      <td>0.925714</td>\n",
       "      <td>0.450000</td>\n",
       "      <td>0.605607</td>\n",
       "      <td>360.000000</td>\n",
       "    </tr>\n",
       "    <tr>\n",
       "      <th>RYR2</th>\n",
       "      <td>0.326761</td>\n",
       "      <td>0.644444</td>\n",
       "      <td>0.433645</td>\n",
       "      <td>360.000000</td>\n",
       "    </tr>\n",
       "    <tr>\n",
       "      <th>SNHG14</th>\n",
       "      <td>0.321168</td>\n",
       "      <td>0.855556</td>\n",
       "      <td>0.467020</td>\n",
       "      <td>360.000000</td>\n",
       "    </tr>\n",
       "    <tr>\n",
       "      <th>TTN</th>\n",
       "      <td>0.841772</td>\n",
       "      <td>0.369444</td>\n",
       "      <td>0.513514</td>\n",
       "      <td>360.000000</td>\n",
       "    </tr>\n",
       "    <tr>\n",
       "      <th>USP34</th>\n",
       "      <td>0.386010</td>\n",
       "      <td>0.413889</td>\n",
       "      <td>0.399464</td>\n",
       "      <td>360.000000</td>\n",
       "    </tr>\n",
       "    <tr>\n",
       "      <th>intergenic</th>\n",
       "      <td>0.387387</td>\n",
       "      <td>0.238889</td>\n",
       "      <td>0.295533</td>\n",
       "      <td>360.000000</td>\n",
       "    </tr>\n",
       "    <tr>\n",
       "      <th>non_circular</th>\n",
       "      <td>0.985423</td>\n",
       "      <td>0.944134</td>\n",
       "      <td>0.964337</td>\n",
       "      <td>358.000000</td>\n",
       "    </tr>\n",
       "    <tr>\n",
       "      <th>accuracy</th>\n",
       "      <td>0.488882</td>\n",
       "      <td>0.488882</td>\n",
       "      <td>0.488882</td>\n",
       "      <td>0.488882</td>\n",
       "    </tr>\n",
       "    <tr>\n",
       "      <th>macro avg</th>\n",
       "      <td>0.593248</td>\n",
       "      <td>0.489163</td>\n",
       "      <td>0.481995</td>\n",
       "      <td>3238.000000</td>\n",
       "    </tr>\n",
       "    <tr>\n",
       "      <th>weighted avg</th>\n",
       "      <td>0.593006</td>\n",
       "      <td>0.488882</td>\n",
       "      <td>0.481697</td>\n",
       "      <td>3238.000000</td>\n",
       "    </tr>\n",
       "  </tbody>\n",
       "</table>\n",
       "</div>"
      ],
      "text/plain": [
       "              precision    recall  f1-score      support\n",
       "BIRC6          0.512821  0.111111  0.182648   360.000000\n",
       "MACF1          0.652174  0.375000  0.476190   360.000000\n",
       "MALAT1         0.925714  0.450000  0.605607   360.000000\n",
       "RYR2           0.326761  0.644444  0.433645   360.000000\n",
       "SNHG14         0.321168  0.855556  0.467020   360.000000\n",
       "TTN            0.841772  0.369444  0.513514   360.000000\n",
       "USP34          0.386010  0.413889  0.399464   360.000000\n",
       "intergenic     0.387387  0.238889  0.295533   360.000000\n",
       "non_circular   0.985423  0.944134  0.964337   358.000000\n",
       "accuracy       0.488882  0.488882  0.488882     0.488882\n",
       "macro avg      0.593248  0.489163  0.481995  3238.000000\n",
       "weighted avg   0.593006  0.488882  0.481697  3238.000000"
      ]
     },
     "execution_count": 50,
     "metadata": {},
     "output_type": "execute_result"
    }
   ],
   "source": [
    "df = pd.DataFrame(data).transpose()\n",
    "df"
   ]
  },
  {
   "cell_type": "code",
   "execution_count": 51,
   "metadata": {},
   "outputs": [],
   "source": [
    "df.to_csv(\"result/overall_result.csv\")"
   ]
  },
  {
   "cell_type": "markdown",
   "metadata": {},
   "source": [
    "### Data for Classification Model"
   ]
  },
  {
   "cell_type": "code",
   "execution_count": 15,
   "metadata": {},
   "outputs": [],
   "source": [
    "import pandas as pd\n",
    "import matplotlib.pyplot as plt\n",
    "from Bio import SeqIO"
   ]
  },
  {
   "cell_type": "code",
   "execution_count": 4,
   "metadata": {},
   "outputs": [
    {
     "data": {
      "text/plain": [
       "(32914, 47589)"
      ]
     },
     "execution_count": 4,
     "metadata": {},
     "output_type": "execute_result"
    }
   ],
   "source": [
    "circ_rna_path = \"dataset/circRNA_fasta\"\n",
    "circ_rna_seq = [str(i.seq) for i in list(SeqIO.parse(circ_rna_path, \"fasta\"))]\n",
    "non_circ_rna_path = \"dataset/noncircRNA.fa\"\n",
    "non_circ_rna_seq = [str(i.seq) for i in list(SeqIO.parse(non_circ_rna_path, \"fasta\"))]\n",
    "len(circ_rna_seq), len(non_circ_rna_seq)"
   ]
  },
  {
   "cell_type": "code",
   "execution_count": 7,
   "metadata": {},
   "outputs": [],
   "source": [
    "len_non_circ_rna_list = [len(i) for i in non_circ_rna_seq]\n",
    "len_circ_rna_list = [len(i) for i in circ_rna_seq]"
   ]
  },
  {
   "cell_type": "code",
   "execution_count": 14,
   "metadata": {},
   "outputs": [],
   "source": [
    "data = pd.DataFrame([len_non_circ_rna_list,len_circ_rna_list]).T\n",
    "data.columns = [\"non_circ\", \"circ\"]\n",
    "data.to_csv(\"appendix/len_dist.csv\")\n",
    "data.to_excel(\"appendix/len_dist.xlsx\")"
   ]
  },
  {
   "cell_type": "code",
   "execution_count": 18,
   "metadata": {},
   "outputs": [
    {
     "data": {
      "text/html": [
       "<div>\n",
       "<style scoped>\n",
       "    .dataframe tbody tr th:only-of-type {\n",
       "        vertical-align: middle;\n",
       "    }\n",
       "\n",
       "    .dataframe tbody tr th {\n",
       "        vertical-align: top;\n",
       "    }\n",
       "\n",
       "    .dataframe thead th {\n",
       "        text-align: right;\n",
       "    }\n",
       "</style>\n",
       "<table border=\"1\" class=\"dataframe\">\n",
       "  <thead>\n",
       "    <tr style=\"text-align: right;\">\n",
       "      <th></th>\n",
       "      <th>non_circ</th>\n",
       "      <th>circ</th>\n",
       "    </tr>\n",
       "  </thead>\n",
       "  <tbody>\n",
       "    <tr>\n",
       "      <th>0</th>\n",
       "      <td>89.0</td>\n",
       "      <td>563.0</td>\n",
       "    </tr>\n",
       "    <tr>\n",
       "      <th>1</th>\n",
       "      <td>96.0</td>\n",
       "      <td>752.0</td>\n",
       "    </tr>\n",
       "    <tr>\n",
       "      <th>2</th>\n",
       "      <td>102.0</td>\n",
       "      <td>86.0</td>\n",
       "    </tr>\n",
       "    <tr>\n",
       "      <th>3</th>\n",
       "      <td>107.0</td>\n",
       "      <td>257.0</td>\n",
       "    </tr>\n",
       "    <tr>\n",
       "      <th>4</th>\n",
       "      <td>107.0</td>\n",
       "      <td>196.0</td>\n",
       "    </tr>\n",
       "    <tr>\n",
       "      <th>...</th>\n",
       "      <td>...</td>\n",
       "      <td>...</td>\n",
       "    </tr>\n",
       "    <tr>\n",
       "      <th>47584</th>\n",
       "      <td>115.0</td>\n",
       "      <td>NaN</td>\n",
       "    </tr>\n",
       "    <tr>\n",
       "      <th>47585</th>\n",
       "      <td>107.0</td>\n",
       "      <td>NaN</td>\n",
       "    </tr>\n",
       "    <tr>\n",
       "      <th>47586</th>\n",
       "      <td>107.0</td>\n",
       "      <td>NaN</td>\n",
       "    </tr>\n",
       "    <tr>\n",
       "      <th>47587</th>\n",
       "      <td>108.0</td>\n",
       "      <td>NaN</td>\n",
       "    </tr>\n",
       "    <tr>\n",
       "      <th>47588</th>\n",
       "      <td>108.0</td>\n",
       "      <td>NaN</td>\n",
       "    </tr>\n",
       "  </tbody>\n",
       "</table>\n",
       "<p>47589 rows × 2 columns</p>\n",
       "</div>"
      ],
      "text/plain": [
       "       non_circ   circ\n",
       "0          89.0  563.0\n",
       "1          96.0  752.0\n",
       "2         102.0   86.0\n",
       "3         107.0  257.0\n",
       "4         107.0  196.0\n",
       "...         ...    ...\n",
       "47584     115.0    NaN\n",
       "47585     107.0    NaN\n",
       "47586     107.0    NaN\n",
       "47587     108.0    NaN\n",
       "47588     108.0    NaN\n",
       "\n",
       "[47589 rows x 2 columns]"
      ]
     },
     "execution_count": 18,
     "metadata": {},
     "output_type": "execute_result"
    }
   ],
   "source": [
    "data"
   ]
  },
  {
   "cell_type": "code",
   "execution_count": 19,
   "metadata": {},
   "outputs": [
    {
     "data": {
      "text/plain": [
       "{'whiskers': [<matplotlib.lines.Line2D at 0x1fa80340310>,\n",
       "  <matplotlib.lines.Line2D at 0x1fa803405b0>,\n",
       "  <matplotlib.lines.Line2D at 0x1fa803415a0>,\n",
       "  <matplotlib.lines.Line2D at 0x1fa80341840>],\n",
       " 'caps': [<matplotlib.lines.Line2D at 0x1fa80340850>,\n",
       "  <matplotlib.lines.Line2D at 0x1fa80340b20>,\n",
       "  <matplotlib.lines.Line2D at 0x1fa80341ae0>,\n",
       "  <matplotlib.lines.Line2D at 0x1fa80341d80>],\n",
       " 'boxes': [<matplotlib.lines.Line2D at 0x1fa80340070>,\n",
       "  <matplotlib.lines.Line2D at 0x1fa80341300>],\n",
       " 'medians': [<matplotlib.lines.Line2D at 0x1fa80340dc0>,\n",
       "  <matplotlib.lines.Line2D at 0x1fa80342020>],\n",
       " 'fliers': [<matplotlib.lines.Line2D at 0x1fa80341060>,\n",
       "  <matplotlib.lines.Line2D at 0x1fa803422c0>],\n",
       " 'means': []}"
      ]
     },
     "execution_count": 19,
     "metadata": {},
     "output_type": "execute_result"
    },
    {
     "data": {
      "image/png": "[encoded data removed]",
      "text/plain": [
       "<Figure size 640x480 with 1 Axes>"
      ]
     },
     "metadata": {},
     "output_type": "display_data"
    }
   ],
   "source": [
    "plt.boxplot(data)"
   ]
  }
 ],
 "metadata": {
  "kernelspec": {
   "display_name": ".venv",
   "language": "python",
   "name": "python3"
  },
  "language_info": {
   "codemirror_mode": {
    "name": "ipython",
    "version": 3
   },
   "file_extension": ".py",
   "mimetype": "text/x-python",
   "name": "python",
   "nbconvert_exporter": "python",
   "pygments_lexer": "ipython3",
   "version": "3.10.7"
  }
 },
 "nbformat": 4,
 "nbformat_minor": 2
}
