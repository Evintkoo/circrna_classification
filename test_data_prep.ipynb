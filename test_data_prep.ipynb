{
 "cells": [
  {
   "cell_type": "code",
   "execution_count": 1,
   "metadata": {},
   "outputs": [],
   "source": [
    "from kmer_counting import sequence2matrix\n",
    "import numpy as np \n",
    "import pandas as pd\n",
    "import os\n",
    "import matplotlib.pyplot as plt\n",
    "import math\n",
    "import copy\n",
    "from typing import List\n",
    "import tqdm\n",
    "from Bio import SeqIO"
   ]
  },
  {
   "cell_type": "code",
   "execution_count": 2,
   "metadata": {},
   "outputs": [
    {
     "data": {
      "text/plain": [
       "768986"
      ]
     },
     "execution_count": 2,
     "metadata": {},
     "output_type": "execute_result"
    }
   ],
   "source": [
    "circ_rna_path = \"dataset/human_sequence_v3.0\"\n",
    "file = open(circ_rna_path).readlines()\n",
    "data = []\n",
    "for lines in file:\n",
    "    lines = lines.replace(\"\\n\",\"\").split(\" \")\n",
    "    lines[0] = lines[0].split(\"_\")\n",
    "    lines[0][0] = lines[0][0].split(\"-\", 1)\n",
    "    data.append({\n",
    "        \"species\":lines[0][0][0],\n",
    "        \"type\": lines[0][0][1],\n",
    "        \"id\": lines[0][1],\n",
    "        \"strand\": lines[1]\n",
    "    })\n",
    "len(data)"
   ]
  },
  {
   "cell_type": "code",
   "execution_count": 3,
   "metadata": {},
   "outputs": [
    {
     "data": {
      "text/html": [
       "<div>\n",
       "<style scoped>\n",
       "    .dataframe tbody tr th:only-of-type {\n",
       "        vertical-align: middle;\n",
       "    }\n",
       "\n",
       "    .dataframe tbody tr th {\n",
       "        vertical-align: top;\n",
       "    }\n",
       "\n",
       "    .dataframe thead th {\n",
       "        text-align: right;\n",
       "    }\n",
       "</style>\n",
       "<table border=\"1\" class=\"dataframe\">\n",
       "  <thead>\n",
       "    <tr style=\"text-align: right;\">\n",
       "      <th></th>\n",
       "      <th>species</th>\n",
       "      <th>type</th>\n",
       "      <th>id</th>\n",
       "      <th>strand</th>\n",
       "    </tr>\n",
       "  </thead>\n",
       "  <tbody>\n",
       "    <tr>\n",
       "      <th>1</th>\n",
       "      <td>hsa</td>\n",
       "      <td>RP11-206L10</td>\n",
       "      <td>0001</td>\n",
       "      <td>TATCTTAAATAGTGAAGATGGAGAAATAGTCAATAATGAAGAGCAT...</td>\n",
       "    </tr>\n",
       "    <tr>\n",
       "      <th>2</th>\n",
       "      <td>hsa</td>\n",
       "      <td>RP11-206L10</td>\n",
       "      <td>0002</td>\n",
       "      <td>TATCTTAAATAGTGAAGATGGAGAAATAGTCAATAATGAAGAGCAT...</td>\n",
       "    </tr>\n",
       "    <tr>\n",
       "      <th>3</th>\n",
       "      <td>hsa</td>\n",
       "      <td>SAMD11</td>\n",
       "      <td>0013</td>\n",
       "      <td>GTGCGGCTGTGTCCCCTTCCCCTGCCCAACATGCTGTATGTCTGAG...</td>\n",
       "    </tr>\n",
       "    <tr>\n",
       "      <th>4</th>\n",
       "      <td>hsa</td>\n",
       "      <td>SAMD11</td>\n",
       "      <td>0001</td>\n",
       "      <td>CCAGGACGGCAACCTTCCCACCCTCATATCCAGCGTCCACCGCAGC...</td>\n",
       "    </tr>\n",
       "    <tr>\n",
       "      <th>5</th>\n",
       "      <td>hsa</td>\n",
       "      <td>NOC2L</td>\n",
       "      <td>0001</td>\n",
       "      <td>CCGGCGTAAAGGCCGTGCCTCTGAGCACAAAGACCAGCTCTCTCGG...</td>\n",
       "    </tr>\n",
       "  </tbody>\n",
       "</table>\n",
       "</div>"
      ],
      "text/plain": [
       "  species         type    id  \\\n",
       "1     hsa  RP11-206L10  0001   \n",
       "2     hsa  RP11-206L10  0002   \n",
       "3     hsa       SAMD11  0013   \n",
       "4     hsa       SAMD11  0001   \n",
       "5     hsa        NOC2L  0001   \n",
       "\n",
       "                                              strand  \n",
       "1  TATCTTAAATAGTGAAGATGGAGAAATAGTCAATAATGAAGAGCAT...  \n",
       "2  TATCTTAAATAGTGAAGATGGAGAAATAGTCAATAATGAAGAGCAT...  \n",
       "3  GTGCGGCTGTGTCCCCTTCCCCTGCCCAACATGCTGTATGTCTGAG...  \n",
       "4  CCAGGACGGCAACCTTCCCACCCTCATATCCAGCGTCCACCGCAGC...  \n",
       "5  CCGGCGTAAAGGCCGTGCCTCTGAGCACAAAGACCAGCTCTCTCGG...  "
      ]
     },
     "execution_count": 3,
     "metadata": {},
     "output_type": "execute_result"
    }
   ],
   "source": [
    "df = pd.DataFrame(data)\n",
    "df.drop_duplicates(subset=\"strand\", keep=False, inplace=True)\n",
    "df = df[df[\"strand\"] != \"unknown\"]\n",
    "df.head()"
   ]
  },
  {
   "cell_type": "code",
   "execution_count": 4,
   "metadata": {},
   "outputs": [
    {
     "data": {
      "text/plain": [
       "24318"
      ]
     },
     "execution_count": 4,
     "metadata": {},
     "output_type": "execute_result"
    }
   ],
   "source": [
    "li, cnt = np.unique(df[\"type\"], return_counts=True)\n",
    "dicts = [[i,j] for i, j in zip(li,cnt)]\n",
    "len(li)"
   ]
  },
  {
   "cell_type": "code",
   "execution_count": 5,
   "metadata": {},
   "outputs": [
    {
     "data": {
      "text/plain": [
       "array(['intergenic', 'TTN', 'RYR2', 'MALAT1', 'USP34', 'MACF1', 'SNHG14',\n",
       "       'BIRC6'], dtype='<U21')"
      ]
     },
     "execution_count": 5,
     "metadata": {},
     "output_type": "execute_result"
    }
   ],
   "source": [
    "# take 16 of the most frequent type\n",
    "total_rna_type = 8\n",
    "rna_types = np.array(sorted(dicts, key=lambda x:x[1])[::-1][:total_rna_type])[:,0]\n",
    "rna_types"
   ]
  },
  {
   "cell_type": "code",
   "execution_count": 6,
   "metadata": {},
   "outputs": [
    {
     "data": {
      "text/plain": [
       "(28946, 4)"
      ]
     },
     "execution_count": 6,
     "metadata": {},
     "output_type": "execute_result"
    }
   ],
   "source": [
    "df = df[df[\"type\"].isin(rna_types) ]\n",
    "df.shape"
   ]
  },
  {
   "cell_type": "code",
   "execution_count": 7,
   "metadata": {},
   "outputs": [
    {
     "data": {
      "text/html": [
       "<div>\n",
       "<style scoped>\n",
       "    .dataframe tbody tr th:only-of-type {\n",
       "        vertical-align: middle;\n",
       "    }\n",
       "\n",
       "    .dataframe tbody tr th {\n",
       "        vertical-align: top;\n",
       "    }\n",
       "\n",
       "    .dataframe thead th {\n",
       "        text-align: right;\n",
       "    }\n",
       "</style>\n",
       "<table border=\"1\" class=\"dataframe\">\n",
       "  <thead>\n",
       "    <tr style=\"text-align: right;\">\n",
       "      <th></th>\n",
       "      <th>type</th>\n",
       "      <th>strand</th>\n",
       "    </tr>\n",
       "  </thead>\n",
       "  <tbody>\n",
       "    <tr>\n",
       "      <th>40</th>\n",
       "      <td>intergenic</td>\n",
       "      <td>GTGCAGTGTGCAGTGCAGGCTTGAACCTGCAGGGGTCCCCCAGGAG...</td>\n",
       "    </tr>\n",
       "    <tr>\n",
       "      <th>195</th>\n",
       "      <td>intergenic</td>\n",
       "      <td>AGACAGGAGGTCTCCCTACGTTATCTTGGCTGACTTCTAACTTCCG...</td>\n",
       "    </tr>\n",
       "    <tr>\n",
       "      <th>277</th>\n",
       "      <td>intergenic</td>\n",
       "      <td>AAATATTTCTATTAGGCCACTGCAAAAGTAACTGCAAAAACCACAA...</td>\n",
       "    </tr>\n",
       "    <tr>\n",
       "      <th>282</th>\n",
       "      <td>intergenic</td>\n",
       "      <td>CCATGCAGGGATCTGCCTTCCTGTGGAATGATCTCCAATGATCTTC...</td>\n",
       "    </tr>\n",
       "    <tr>\n",
       "      <th>521</th>\n",
       "      <td>intergenic</td>\n",
       "      <td>GGTCTCACTGTCGCCCAGGCTGAAGTGCAGTGGCGTGATCACGGCT...</td>\n",
       "    </tr>\n",
       "  </tbody>\n",
       "</table>\n",
       "</div>"
      ],
      "text/plain": [
       "           type                                             strand\n",
       "40   intergenic  GTGCAGTGTGCAGTGCAGGCTTGAACCTGCAGGGGTCCCCCAGGAG...\n",
       "195  intergenic  AGACAGGAGGTCTCCCTACGTTATCTTGGCTGACTTCTAACTTCCG...\n",
       "277  intergenic  AAATATTTCTATTAGGCCACTGCAAAAGTAACTGCAAAAACCACAA...\n",
       "282  intergenic  CCATGCAGGGATCTGCCTTCCTGTGGAATGATCTCCAATGATCTTC...\n",
       "521  intergenic  GGTCTCACTGTCGCCCAGGCTGAAGTGCAGTGGCGTGATCACGGCT..."
      ]
     },
     "execution_count": 7,
     "metadata": {},
     "output_type": "execute_result"
    }
   ],
   "source": [
    "total_data = 360\n",
    "test_class_data = pd.concat([df[df[\"type\"] == i].iloc[:total_data,:] for i in rna_types]).drop([\"species\", \"id\"], axis=1)\n",
    "test_class_data.to_csv(\"test_data/classes.csv\")\n",
    "test_class_data.head()"
   ]
  },
  {
   "cell_type": "code",
   "execution_count": 8,
   "metadata": {},
   "outputs": [
    {
     "data": {
      "text/html": [
       "<div>\n",
       "<style scoped>\n",
       "    .dataframe tbody tr th:only-of-type {\n",
       "        vertical-align: middle;\n",
       "    }\n",
       "\n",
       "    .dataframe tbody tr th {\n",
       "        vertical-align: top;\n",
       "    }\n",
       "\n",
       "    .dataframe thead th {\n",
       "        text-align: right;\n",
       "    }\n",
       "</style>\n",
       "<table border=\"1\" class=\"dataframe\">\n",
       "  <thead>\n",
       "    <tr style=\"text-align: right;\">\n",
       "      <th></th>\n",
       "      <th>type</th>\n",
       "      <th>strand</th>\n",
       "    </tr>\n",
       "  </thead>\n",
       "  <tbody>\n",
       "    <tr>\n",
       "      <th>0</th>\n",
       "      <td>non_circular</td>\n",
       "      <td>ACTCCCTTTGTGGAGTTCTCCAGTGCAGAGAAGATTGGCATGACTC...</td>\n",
       "    </tr>\n",
       "    <tr>\n",
       "      <th>1</th>\n",
       "      <td>non_circular</td>\n",
       "      <td>GTGCTCACTTTGGCAGCACATCTACTAATGACACAGAGGTTAGCAT...</td>\n",
       "    </tr>\n",
       "    <tr>\n",
       "      <th>2</th>\n",
       "      <td>non_circular</td>\n",
       "      <td>GTGCTTCAGCAGCACATACACTAAAATTGGAATGATACAGAGATTA...</td>\n",
       "    </tr>\n",
       "    <tr>\n",
       "      <th>3</th>\n",
       "      <td>non_circular</td>\n",
       "      <td>GTGCTCACTTCAGCAGCACACATACTAACACTGGTACAATAGAGAG...</td>\n",
       "    </tr>\n",
       "    <tr>\n",
       "      <th>4</th>\n",
       "      <td>non_circular</td>\n",
       "      <td>GTGCTCATTTCAGCAGCATATATACTAAAATTGGAATGATACAGAG...</td>\n",
       "    </tr>\n",
       "    <tr>\n",
       "      <th>...</th>\n",
       "      <td>...</td>\n",
       "      <td>...</td>\n",
       "    </tr>\n",
       "    <tr>\n",
       "      <th>355</th>\n",
       "      <td>non_circular</td>\n",
       "      <td>GTGCTTGCTCCAGTAGCACATATTCTAAAATTGGAATGATACAGAG...</td>\n",
       "    </tr>\n",
       "    <tr>\n",
       "      <th>356</th>\n",
       "      <td>non_circular</td>\n",
       "      <td>GTGCATACTTTGGCAGCACATATACTAAAATTGGAATGATACAGAG...</td>\n",
       "    </tr>\n",
       "    <tr>\n",
       "      <th>357</th>\n",
       "      <td>non_circular</td>\n",
       "      <td>GGTCCTAAAGGAACATCTGATAAAATTAGAACGATATAAAGAAGAT...</td>\n",
       "    </tr>\n",
       "    <tr>\n",
       "      <th>358</th>\n",
       "      <td>non_circular</td>\n",
       "      <td>GTGCTCGCTTCAGCAGCACATATACTAAAATTGGAACGATACAGAG...</td>\n",
       "    </tr>\n",
       "    <tr>\n",
       "      <th>359</th>\n",
       "      <td>non_circular</td>\n",
       "      <td>GTGCTCACTTTAACATCACATATGCTAACAATTGGAAAGATACAGA...</td>\n",
       "    </tr>\n",
       "  </tbody>\n",
       "</table>\n",
       "<p>360 rows × 2 columns</p>\n",
       "</div>"
      ],
      "text/plain": [
       "             type                                             strand\n",
       "0    non_circular  ACTCCCTTTGTGGAGTTCTCCAGTGCAGAGAAGATTGGCATGACTC...\n",
       "1    non_circular  GTGCTCACTTTGGCAGCACATCTACTAATGACACAGAGGTTAGCAT...\n",
       "2    non_circular  GTGCTTCAGCAGCACATACACTAAAATTGGAATGATACAGAGATTA...\n",
       "3    non_circular  GTGCTCACTTCAGCAGCACACATACTAACACTGGTACAATAGAGAG...\n",
       "4    non_circular  GTGCTCATTTCAGCAGCATATATACTAAAATTGGAATGATACAGAG...\n",
       "..            ...                                                ...\n",
       "355  non_circular  GTGCTTGCTCCAGTAGCACATATTCTAAAATTGGAATGATACAGAG...\n",
       "356  non_circular  GTGCATACTTTGGCAGCACATATACTAAAATTGGAATGATACAGAG...\n",
       "357  non_circular  GGTCCTAAAGGAACATCTGATAAAATTAGAACGATATAAAGAAGAT...\n",
       "358  non_circular  GTGCTCGCTTCAGCAGCACATATACTAAAATTGGAACGATACAGAG...\n",
       "359  non_circular  GTGCTCACTTTAACATCACATATGCTAACAATTGGAAAGATACAGA...\n",
       "\n",
       "[360 rows x 2 columns]"
      ]
     },
     "execution_count": 8,
     "metadata": {},
     "output_type": "execute_result"
    }
   ],
   "source": [
    "non_circ_rna_path = \"dataset/noncircRNA.fa\"\n",
    "non_circ_rna = [str(i.seq) for i in list(SeqIO.parse(non_circ_rna_path, \"fasta\"))]\n",
    "selected_non_circ_rna = non_circ_rna[:total_data]\n",
    "df = pd.DataFrame(selected_non_circ_rna, columns=[\"strand\"])\n",
    "df.insert(0, \"type\", \"non_circular\")\n",
    "df"
   ]
  },
  {
   "cell_type": "code",
   "execution_count": 9,
   "metadata": {},
   "outputs": [],
   "source": [
    "pd.concat([test_class_data, df]).to_csv(\"test_data/classes.csv\", index=False)"
   ]
  },
  {
   "cell_type": "code",
   "execution_count": null,
   "metadata": {},
   "outputs": [],
   "source": []
  }
 ],
 "metadata": {
  "kernelspec": {
   "display_name": ".venv",
   "language": "python",
   "name": "python3"
  },
  "language_info": {
   "codemirror_mode": {
    "name": "ipython",
    "version": 3
   },
   "file_extension": ".py",
   "mimetype": "text/x-python",
   "name": "python",
   "nbconvert_exporter": "python",
   "pygments_lexer": "ipython3",
   "version": "3.10.7"
  }
 },
 "nbformat": 4,
 "nbformat_minor": 2
}
