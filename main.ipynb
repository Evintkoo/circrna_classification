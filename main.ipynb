{
 "cells": [
  {
   "cell_type": "markdown",
   "metadata": {},
   "source": [
    "### Importing Datas"
   ]
  },
  {
   "cell_type": "code",
   "execution_count": 10,
   "metadata": {},
   "outputs": [],
   "source": [
    "from kmer_counting import rna_strand_list_to_matrix, sequence2matrix\n",
    "import numpy as np \n",
    "import pandas as pd\n",
    "from Bio import SeqIO\n",
    "import os"
   ]
  },
  {
   "cell_type": "code",
   "execution_count": 11,
   "metadata": {},
   "outputs": [
    {
     "data": {
      "text/plain": [
       "(32914, 47589)"
      ]
     },
     "execution_count": 11,
     "metadata": {},
     "output_type": "execute_result"
    }
   ],
   "source": [
    "circ_rna_path = \"dataset/circRNA_fasta\"\n",
    "circ_rna_seq = [str(i.seq) for i in list(SeqIO.parse(circ_rna_path, \"fasta\"))]\n",
    "non_circ_rna_path = \"dataset/noncircRNA.fa\"\n",
    "non_circ_rna_path = [str(i.seq) for i in list(SeqIO.parse(non_circ_rna_path, \"fasta\"))]\n",
    "len(circ_rna_seq), len(non_circ_rna_path)"
   ]
  },
  {
   "cell_type": "code",
   "execution_count": 12,
   "metadata": {},
   "outputs": [],
   "source": [
    "def convert_to_vector(list_seq, file_path):\n",
    "    converter = sequence2matrix()\n",
    "    seq = [i[\"sequence\"] for i in list_seq]\n",
    "    matrix = converter.fit(seq, save_dir=file_path)\n",
    "    for i,j in zip(matrix,list_seq):\n",
    "        j[\"vector\"] = i\n",
    "    return list_seq"
   ]
  },
  {
   "cell_type": "code",
   "execution_count": 13,
   "metadata": {},
   "outputs": [
    {
     "data": {
      "text/plain": [
       "80503"
      ]
     },
     "execution_count": 13,
     "metadata": {},
     "output_type": "execute_result"
    }
   ],
   "source": [
    "all_data = [{\"sequence\":i,\n",
    "             \"label\":\"circ_rna\"} for i in circ_rna_seq]\n",
    "[all_data.append({\"sequence\":i,\"label\":\"non_circ_rna\"}) for i in non_circ_rna_path]\n",
    "len(all_data)"
   ]
  },
  {
   "cell_type": "code",
   "execution_count": 14,
   "metadata": {},
   "outputs": [],
   "source": [
    "matrix = convert_to_vector(all_data, \"dataset/data\")\n",
    "np.save(\"dataset/all_data\", matrix)"
   ]
  },
  {
   "cell_type": "markdown",
   "metadata": {},
   "source": [
    "### Preprocessing Data"
   ]
  },
  {
   "cell_type": "code",
   "execution_count": 15,
   "metadata": {},
   "outputs": [],
   "source": [
    "import math\n",
    "from typing import List\n",
    "import copy\n",
    "import numpy as np\n",
    "import matplotlib.pyplot as plt\n",
    "import tqdm\n",
    "from multiprocessing import Pool\n",
    "import multiprocessing"
   ]
  },
  {
   "cell_type": "code",
   "execution_count": 16,
   "metadata": {},
   "outputs": [
    {
     "data": {
      "text/plain": [
       "(dtype('float64'), (80303, 256))"
      ]
     },
     "execution_count": 16,
     "metadata": {},
     "output_type": "execute_result"
    }
   ],
   "source": [
    "# load data\n",
    "X = np.array([[*i[\"vector\"].values()] for i in np.load(\"dataset/all_data.npy\", allow_pickle=True) if i[\"vector\"] != 0])\n",
    "X = X.astype(\"float64\")\n",
    "X.dtype, X.shape"
   ]
  },
  {
   "cell_type": "markdown",
   "metadata": {},
   "source": [
    "#### Gaussian Blur"
   ]
  },
  {
   "cell_type": "code",
   "execution_count": 17,
   "metadata": {},
   "outputs": [],
   "source": [
    "def gauss(x:float, sigma:float):\n",
    "    #print(math.exp(-0.5*x*x/(sigma*sigma))/(sigma*math.sqrt(2*math.pi)))\n",
    "    return math.exp(-0.5*x*x/(sigma*sigma))/(sigma*math.sqrt(2*math.pi))"
   ]
  },
  {
   "cell_type": "code",
   "execution_count": 18,
   "metadata": {},
   "outputs": [],
   "source": [
    "def gaussian_blur(vector:List[str], kernel_size:int=5,sigma:float=1):\n",
    "    vector_length = len(vector)\n",
    "    kernel_size = int(0.1*vector_length)\n",
    "    new_vector = copy.deepcopy(vector)\n",
    "    for i in range(vector_length):\n",
    "        new_value = 0\n",
    "        for j in range(max(0, i-kernel_size), min(vector_length,i+kernel_size)):\n",
    "            new_value += gauss(j-i, sigma)*new_vector[j]\n",
    "        new_vector[i] = new_value/(min(vector_length,i+vector_length)-max(0, i-vector_length))\n",
    "    return new_vector"
   ]
  },
  {
   "cell_type": "code",
   "execution_count": 19,
   "metadata": {},
   "outputs": [
    {
     "name": "stderr",
     "output_type": "stream",
     "text": [
      "  0%|          | 21/80303 [00:00<06:39, 200.92it/s]"
     ]
    },
    {
     "name": "stderr",
     "output_type": "stream",
     "text": [
      "100%|██████████| 80303/80303 [06:07<00:00, 218.74it/s]\n"
     ]
    }
   ],
   "source": [
    "np.save(\"dataset/processed_data\", [gaussian_blur(vector) for vector in tqdm.tqdm(X)])"
   ]
  },
  {
   "cell_type": "markdown",
   "metadata": {},
   "source": [
    "#### Another Method"
   ]
  },
  {
   "cell_type": "markdown",
   "metadata": {},
   "source": [
    "### Load Data and Splitting"
   ]
  },
  {
   "cell_type": "code",
   "execution_count": 6,
   "metadata": {},
   "outputs": [],
   "source": [
    "import numpy as np"
   ]
  },
  {
   "cell_type": "code",
   "execution_count": 7,
   "metadata": {},
   "outputs": [],
   "source": [
    "X = np.load(\"dataset/processed_data.npy\")\n",
    "converter = {\n",
    "    \"circ_rna\": 0,\n",
    "    \"non_circ_rna\":1\n",
    "}\n",
    "y = [converter[i[\"label\"]] for i in np.load(\"dataset/all_data.npy\", allow_pickle=True) if i[\"vector\"] != 0]"
   ]
  },
  {
   "cell_type": "code",
   "execution_count": 8,
   "metadata": {},
   "outputs": [
    {
     "data": {
      "text/plain": [
       "{0: 23089, 1: 33123}"
      ]
     },
     "execution_count": 8,
     "metadata": {},
     "output_type": "execute_result"
    }
   ],
   "source": [
    "from sklearn.model_selection import train_test_split\n",
    "# for classification\n",
    "X_train, X_test, y_train, y_test = train_test_split(X, y, test_size = 0.3) \n",
    "# for classification\n",
    "unique, counts = np.unique(y_train, return_counts=True)\n",
    "dict(zip(unique, counts))"
   ]
  },
  {
   "cell_type": "markdown",
   "metadata": {},
   "source": [
    "### Model Training"
   ]
  },
  {
   "cell_type": "code",
   "execution_count": 9,
   "metadata": {},
   "outputs": [],
   "source": [
    "import torch\n",
    "import torch.nn as nn\n",
    "import torch.optim as optim"
   ]
  },
  {
   "cell_type": "code",
   "execution_count": 10,
   "metadata": {},
   "outputs": [
    {
     "name": "stdout",
     "output_type": "stream",
     "text": [
      "using cuda:0\n"
     ]
    }
   ],
   "source": [
    "if torch.cuda.is_available(): \n",
    "    dev = \"cuda:0\" \n",
    "else: \n",
    "    dev = \"cpu\" \n",
    "device = torch.device(dev) \n",
    "print(\"using\", device)\n",
    "torch.backends.cudnn.benchmark = True"
   ]
  },
  {
   "cell_type": "code",
   "execution_count": 11,
   "metadata": {},
   "outputs": [
    {
     "data": {
      "text/plain": [
       "((torch.Size([56212, 256]), torch.Size([56212])),\n",
       " (torch.Size([24091, 256]), torch.Size([24091])))"
      ]
     },
     "execution_count": 11,
     "metadata": {},
     "output_type": "execute_result"
    }
   ],
   "source": [
    "tensor_x_train = torch.tensor(X_train).to(device)\n",
    "tensor_y_train = torch.tensor(y_train).to(device)\n",
    "tensor_x_test = torch.tensor(X_test).to(device)\n",
    "tensor_y_test = torch.tensor(y_test).to(device)\n",
    "\n",
    "(tensor_x_train.shape, tensor_y_train.shape), (tensor_x_test.shape, tensor_y_test.shape)"
   ]
  },
  {
   "cell_type": "code",
   "execution_count": 42,
   "metadata": {},
   "outputs": [],
   "source": [
    "class Model(nn.Module):\n",
    "    def __init__(self, input_size, output_size, hidden_dim):\n",
    "        super(Model, self).__init__()\n",
    "\n",
    "        # Defining some parameters\n",
    "        self.hidden_dim = hidden_dim\n",
    "\n",
    "        #Defining the layers\n",
    "        self.layer1 = nn.Linear(input_size, hidden_dim, bias=True)\n",
    "        self.activationlayer1 = nn.LeakyReLU()\n",
    "        self.layer2 = nn.Linear(hidden_dim, hidden_dim, bias=True)\n",
    "        self.activationlayer2 = nn.LeakyReLU()\n",
    "        self.layer3 = nn.Linear(hidden_dim, int(hidden_dim/2), bias=True)\n",
    "        self.activationlayer3 = nn.LeakyReLU()\n",
    "        self.layer4 = nn.Linear(int(hidden_dim/2), int(hidden_dim/4), bias=True)\n",
    "        self.activationlayer4 = nn.LeakyReLU()\n",
    "        self.ouput = nn.Linear(int(hidden_dim/4), output_size, bias=True)\n",
    "        # for classification\n",
    "        self.outputactivation = nn.Sigmoid()\n",
    "        # for predicition\n",
    "        #self.outputactivation = nn.Hardtanh(min_val=min_val, max_val=max_val)\n",
    "    \n",
    "    def forward(self, x):\n",
    "        x = self.layer1(x)\n",
    "        x = self.activationlayer1(x)\n",
    "        x = self.layer2(x)\n",
    "        x = self.activationlayer2(x)\n",
    "        x = self.layer3(x)\n",
    "        x = self.activationlayer3(x)\n",
    "        x = self.layer4(x)\n",
    "        x = self.activationlayer4(x)\n",
    "        x = self.ouput(x)\n",
    "        x = self.outputactivation(x)\n",
    "        return x"
   ]
  },
  {
   "cell_type": "code",
   "execution_count": 43,
   "metadata": {},
   "outputs": [
    {
     "data": {
      "text/plain": [
       "256"
      ]
     },
     "execution_count": 43,
     "metadata": {},
     "output_type": "execute_result"
    }
   ],
   "source": [
    "'''JANGAN LUPA GANTI NAMA MODEL'''\n",
    "model_name = \"model_1\"\n",
    "\n",
    "input_size = tensor_x_train.shape[1]\n",
    "hidden_dim = 64\n",
    "batch_size = 64\n",
    "learning_rate = 1e-4\n",
    "output_size = 1\n",
    "input_size"
   ]
  },
  {
   "cell_type": "code",
   "execution_count": 44,
   "metadata": {},
   "outputs": [],
   "source": [
    "import torch.utils.data as data\n",
    "from torcheval.metrics import BinaryAccuracy\n",
    "\n",
    "\n",
    "# compile model\n",
    "model = Model(input_size=input_size, output_size=output_size, hidden_dim=hidden_dim).to(device)\n",
    "optimizer = optim.Adam(model.parameters(), lr=learning_rate)\n",
    "training_loader = data.DataLoader(data.TensorDataset(tensor_x_train, tensor_y_train), shuffle=True, batch_size=batch_size)\n",
    "validation_loader = data.DataLoader(data.TensorDataset(tensor_x_test, tensor_y_test), shuffle=True, batch_size=batch_size)\n",
    "#scheduler = StepLR(optimizer, step_size=100, gamma=0.1)\n",
    "\n",
    "# this is for classification\n",
    "loss_fn = nn.BCELoss().to(device) # sparse categorical cross entropy\n",
    "metric = BinaryAccuracy().to(device)\n"
   ]
  },
  {
   "cell_type": "code",
   "execution_count": 45,
   "metadata": {},
   "outputs": [
    {
     "data": {
      "text/plain": [
       "==========================================================================================\n",
       "Layer (type:depth-idx)                   Output Shape              Param #\n",
       "==========================================================================================\n",
       "Model                                    [64, 1]                   --\n",
       "├─Linear: 1-1                            [64, 64]                  16,448\n",
       "├─LeakyReLU: 1-2                         [64, 64]                  --\n",
       "├─Linear: 1-3                            [64, 64]                  4,160\n",
       "├─LeakyReLU: 1-4                         [64, 64]                  --\n",
       "├─Linear: 1-5                            [64, 32]                  2,080\n",
       "├─LeakyReLU: 1-6                         [64, 32]                  --\n",
       "├─Linear: 1-7                            [64, 16]                  528\n",
       "├─LeakyReLU: 1-8                         [64, 16]                  --\n",
       "├─Linear: 1-9                            [64, 1]                   17\n",
       "├─Sigmoid: 1-10                          [64, 1]                   --\n",
       "==========================================================================================\n",
       "Total params: 23,233\n",
       "Trainable params: 23,233\n",
       "Non-trainable params: 0\n",
       "Total mult-adds (M): 1.49\n",
       "==========================================================================================\n",
       "Input size (MB): 0.07\n",
       "Forward/backward pass size (MB): 0.09\n",
       "Params size (MB): 0.09\n",
       "Estimated Total Size (MB): 0.25\n",
       "=========================================================================================="
      ]
     },
     "execution_count": 45,
     "metadata": {},
     "output_type": "execute_result"
    }
   ],
   "source": [
    "from torchinfo import summary\n",
    "\n",
    "x = summary(model, input_size=(batch_size, input_size))\n",
    "text_file = open(\"models/\"+model_name+\"/summary.txt\", \"w\", encoding=\"utf-8\")\n",
    "text_file.writelines(str(x))\n",
    "text_file.close()\n",
    "x"
   ]
  },
  {
   "cell_type": "code",
   "execution_count": 46,
   "metadata": {},
   "outputs": [],
   "source": [
    "def train_one_epoch():\n",
    "    step_loss = 0\n",
    "    step_acc = 0\n",
    "    running_loss = 0\n",
    "    running_acc = 0\n",
    "    for i, data in enumerate(training_loader):\n",
    "        # Every data instance is an input + label pair\n",
    "        inputs, labels = data\n",
    "        \n",
    "        # Make predictions for this batch\n",
    "        outputs = model(inputs.cuda().float()).squeeze()\n",
    "\n",
    "        # for classification: convert labels to long tensor\n",
    "        labels = labels.cuda().float()\n",
    "        \n",
    "        # for predicition: convert labels to float tensor\n",
    "        #labels = torch.reshape(labels.cuda().float(), (-1,1))\n",
    "        \n",
    "        # Compute the loss and its gradients\n",
    "        # Zero your gradients for every batch!\n",
    "        optimizer.zero_grad()\n",
    "        \n",
    "        loss = loss_fn(outputs, labels)\n",
    "        loss.backward()\n",
    "        \n",
    "        # Compute the accuracy\n",
    "        metric.update(outputs, labels)\n",
    "        \n",
    "        # Adjust learning weights\n",
    "        optimizer.step()\n",
    "        #scheduler.step()\n",
    "        \n",
    "        # Gather data loss and accuracy\n",
    "        running_loss += loss.item()\n",
    "        running_acc += metric.compute().item()\n",
    "    \n",
    "    step_loss = (running_loss/len(training_loader))\n",
    "    step_acc = (running_acc/len(training_loader))\n",
    "        # print('  STEP {} loss: {}, accuracy: {}'.format(steps+1, running_loss/len(training_loader), running_acc/len(training_loader)))\n",
    "    return step_loss, step_acc"
   ]
  },
  {
   "cell_type": "code",
   "execution_count": 47,
   "metadata": {},
   "outputs": [],
   "source": [
    "class history:\n",
    "    def __init__(self):\n",
    "        self.train_loss = []\n",
    "        self.train_acc = []\n",
    "        self.val_loss = []\n",
    "        self.val_acc = []\n",
    "        self.times = []\n",
    "    def add_history(self, train_loss, train_acc, val_loss, val_acc, time_spent):\n",
    "        self.train_loss.append(train_loss)\n",
    "        self.train_acc.append(train_acc)\n",
    "        self.val_loss.append(val_loss)\n",
    "        self.val_acc.append(val_acc)\n",
    "        self.times.append(time_spent)"
   ]
  },
  {
   "cell_type": "code",
   "execution_count": 48,
   "metadata": {},
   "outputs": [],
   "source": [
    "h = history()\n",
    "best_vloss = 1_000_000.\n",
    "best_vacc = 0"
   ]
  },
  {
   "cell_type": "code",
   "execution_count": 49,
   "metadata": {},
   "outputs": [
    {
     "name": "stdout",
     "output_type": "stream",
     "text": [
      "EPOCH 1/50:\n",
      "loss: 0.36852874531409574, acc: 0.7113642459300868, val_loss: 0.05619991570711136, val_acc: 0.8734793349981941, time:3.118790864944458\n",
      "saved\n",
      "EPOCH 2/50:\n",
      "loss: 0.037699569839416275, acc: 0.9153316194558171, val_loss: 0.02853967808187008, val_acc: 0.9371463316505088, time:2.473879098892212\n",
      "saved\n",
      "EPOCH 3/50:\n",
      "loss: 0.025914001470088398, acc: 0.9488270380391196, val_loss: 0.021250370889902115, val_acc: 0.9569174214130372, time:2.34540057182312\n",
      "saved\n",
      "EPOCH 4/50:\n",
      "loss: 0.02180739548054669, acc: 0.9623715415749533, val_loss: 0.018392572179436684, val_acc: 0.9666520663850819, time:2.3758842945098877\n",
      "saved\n",
      "EPOCH 5/50:\n",
      "loss: 0.019050558113685858, acc: 0.9698700546811465, val_loss: 0.01688014529645443, val_acc: 0.9725445322395952, time:2.6496245861053467\n",
      "saved\n",
      "EPOCH 6/50:\n",
      "loss: 0.016726145941239123, acc: 0.9746551818137011, val_loss: 0.01449834369122982, val_acc: 0.976496734574872, time:2.8789453506469727\n",
      "saved\n",
      "EPOCH 7/50:\n",
      "loss: 0.014898113580711983, acc: 0.9780119354407535, val_loss: 0.013203502632677555, val_acc: 0.9793472984109064, time:2.5391483306884766\n",
      "saved\n",
      "EPOCH 8/50:\n",
      "loss: 0.013294376821012954, acc: 0.9804848812274695, val_loss: 0.011501737870275974, val_acc: 0.9815151615547565, time:2.553344249725342\n",
      "saved\n",
      "EPOCH 9/50:\n",
      "loss: 0.01205185349108609, acc: 0.9824099910272809, val_loss: 0.01054393034428358, val_acc: 0.9832382285942766, time:2.542121648788452\n",
      "saved\n",
      "EPOCH 10/50:\n",
      "loss: 0.010915545046569745, acc: 0.9839667964035876, val_loss: 0.00941185001283884, val_acc: 0.9846428642222357, time:2.6086318492889404\n",
      "saved\n",
      "EPOCH 11/50:\n",
      "loss: 0.009913115550583653, acc: 0.9852428774649237, val_loss: 0.008584950119256973, val_acc: 0.985802830056107, time:2.5055506229400635\n",
      "saved\n",
      "EPOCH 12/50:\n",
      "loss: 0.00915202132489244, acc: 0.9862998756532376, val_loss: 0.009013846516609192, val_acc: 0.9867619898970627, time:2.3627331256866455\n",
      "saved\n",
      "EPOCH 13/50:\n",
      "loss: 0.008514350986554377, acc: 0.987194316446849, val_loss: 0.007384770084172487, val_acc: 0.9875936925569326, time:2.3851490020751953\n",
      "saved\n",
      "EPOCH 14/50:\n",
      "loss: 0.007983625145159613, acc: 0.9879711380861996, val_loss: 0.007039803080260754, val_acc: 0.9883171995059249, time:2.3332769870758057\n",
      "saved\n",
      "EPOCH 15/50:\n",
      "loss: 0.00740680790545903, acc: 0.9886408757431109, val_loss: 0.006752138491719961, val_acc: 0.9889502716633622, time:2.3507556915283203\n",
      "saved\n",
      "EPOCH 16/50:\n",
      "loss: 0.007033476700093909, acc: 0.9892367538874195, val_loss: 0.006738010793924332, val_acc: 0.9895041377854285, time:2.4590675830841064\n",
      "saved\n",
      "EPOCH 17/50:\n",
      "loss: 0.0065846117983138245, acc: 0.989758946857626, val_loss: 0.006016253028064966, val_acc: 0.9900061187756789, time:2.4985580444335938\n",
      "saved\n",
      "EPOCH 18/50:\n",
      "loss: 0.006461600265418412, acc: 0.9902342985785726, val_loss: 0.005799628794193268, val_acc: 0.9904555332123126, time:2.59251070022583\n",
      "saved\n",
      "EPOCH 19/50:\n",
      "loss: 0.006083363250513607, acc: 0.990663088832699, val_loss: 0.005890813190490007, val_acc: 0.9908652977538678, time:2.8418524265289307\n",
      "saved\n",
      "EPOCH 20/50:\n",
      "loss: 0.005949844935666812, acc: 0.9910548440561089, val_loss: 0.005812159273773432, val_acc: 0.991232995329232, time:2.836483955383301\n",
      "saved\n",
      "EPOCH 21/50:\n",
      "loss: 0.005650271107954974, acc: 0.9913985837034804, val_loss: 0.005448745563626289, val_acc: 0.9915633593693336, time:2.5806920528411865\n",
      "saved\n",
      "EPOCH 22/50:\n",
      "loss: 0.005656160655920999, acc: 0.9917187159785639, val_loss: 0.0052658431231975555, val_acc: 0.9918683876409454, time:2.8370327949523926\n",
      "saved\n",
      "EPOCH 23/50:\n",
      "loss: 0.005439710414538032, acc: 0.992011614423563, val_loss: 0.0051293387077748775, val_acc: 0.9921488385617891, time:2.69541335105896\n",
      "saved\n",
      "EPOCH 24/50:\n",
      "loss: 0.005333529128976219, acc: 0.9922798760108167, val_loss: 0.005065188277512789, val_acc: 0.992406859954409, time:2.7109169960021973\n",
      "saved\n",
      "EPOCH 25/50:\n",
      "loss: 0.005234216916452025, acc: 0.992530750468865, val_loss: 0.005049283150583506, val_acc: 0.9926492829537834, time:2.575421094894409\n",
      "saved\n",
      "EPOCH 26/50:\n",
      "loss: 0.005104608173217305, acc: 0.9927662571000022, val_loss: 0.005485943518579006, val_acc: 0.9928687151610377, time:2.9383344650268555\n",
      "saved\n",
      "EPOCH 27/50:\n",
      "loss: 0.0049876209643666914, acc: 0.9929752547857569, val_loss: 0.004953678231686354, val_acc: 0.9930747956116572, time:2.83980131149292\n",
      "saved\n",
      "EPOCH 28/50:\n",
      "loss: 0.004795292420982333, acc: 0.9931731249149613, val_loss: 0.005096634849905968, val_acc: 0.9932650202781516, time:2.7993319034576416\n",
      "saved\n",
      "EPOCH 29/50:\n",
      "loss: 0.00469042579094048, acc: 0.9933565550561109, val_loss: 0.00488522183150053, val_acc: 0.9934419466266582, time:2.5092079639434814\n",
      "saved\n",
      "EPOCH 30/50:\n",
      "loss: 0.004663666415746798, acc: 0.9935259355213049, val_loss: 0.004703435581177473, val_acc: 0.9936104233448322, time:2.448176145553589\n",
      "saved\n",
      "EPOCH 31/50:\n",
      "loss: 0.004456411160095529, acc: 0.9936937850489959, val_loss: 0.004717443138360977, val_acc: 0.9937687362853033, time:2.384652853012085\n",
      "saved\n",
      "EPOCH 32/50:\n",
      "loss: 0.004595757540317393, acc: 0.9938451006279599, val_loss: 0.004696337506175041, val_acc: 0.9939179256044585, time:2.5530526638031006\n",
      "saved\n",
      "EPOCH 33/50:\n",
      "loss: 0.004427019597605108, acc: 0.9939887552131158, val_loss: 0.0061076185666024685, val_acc: 0.9940577543066415, time:2.36099910736084\n",
      "saved\n",
      "EPOCH 34/50:\n",
      "loss: 0.004356169239728513, acc: 0.9941237193868158, val_loss: 0.005030167289078236, val_acc: 0.9941907283165726, time:2.4106409549713135\n",
      "saved\n",
      "EPOCH 35/50:\n",
      "loss: 0.0041981371230181514, acc: 0.9942547447716688, val_loss: 0.004494424909353256, val_acc: 0.9943203500790685, time:2.4165704250335693\n",
      "saved\n",
      "EPOCH 36/50:\n",
      "loss: 0.004174162526219753, acc: 0.9943832733389731, val_loss: 0.004578964319080114, val_acc: 0.9944421277438298, time:2.4851181507110596\n",
      "saved\n",
      "EPOCH 37/50:\n",
      "loss: 0.004061945353325957, acc: 0.9944988241645935, val_loss: 0.004384369123727083, val_acc: 0.9945587471562292, time:2.4198570251464844\n",
      "saved\n",
      "EPOCH 38/50:\n",
      "loss: 0.003912539786720981, acc: 0.99461491604307, val_loss: 0.00447804294526577, val_acc: 0.9946697042854774, time:2.4274070262908936\n",
      "saved\n",
      "EPOCH 39/50:\n",
      "loss: 0.0038710030423717645, acc: 0.994721300162553, val_loss: 0.004833703860640526, val_acc: 0.9947718642750849, time:2.4066717624664307\n",
      "saved\n",
      "EPOCH 40/50:\n",
      "loss: 0.003936357597290645, acc: 0.9948215015376658, val_loss: 0.004556863568723202, val_acc: 0.9948719303551024, time:2.4396963119506836\n",
      "saved\n",
      "EPOCH 41/50:\n",
      "loss: 0.0038024436193262153, acc: 0.9949206050074276, val_loss: 0.004623948596417904, val_acc: 0.9949679996037673, time:2.5603771209716797\n",
      "saved\n",
      "EPOCH 42/50:\n",
      "loss: 0.003961729093253626, acc: 0.9950136469085875, val_loss: 0.0045547205954790115, val_acc: 0.9950581162930799, time:2.4951584339141846\n",
      "saved\n",
      "EPOCH 43/50:\n",
      "loss: 0.0036736173588327848, acc: 0.9951018981288047, val_loss: 0.004274827428162098, val_acc: 0.995147073616716, time:2.412090301513672\n",
      "saved\n",
      "EPOCH 44/50:\n",
      "loss: 0.0037274208045927812, acc: 0.9951890268965928, val_loss: 0.0043530091643333435, val_acc: 0.9952322399584621, time:2.3595778942108154\n",
      "saved\n",
      "EPOCH 45/50:\n",
      "loss: 0.003702924598859789, acc: 0.9952726102390658, val_loss: 0.004301997367292643, val_acc: 0.9953118387204583, time:2.4143471717834473\n",
      "saved\n",
      "EPOCH 46/50:\n",
      "loss: 0.003529610543619987, acc: 0.9953511046739433, val_loss: 0.004252713639289141, val_acc: 0.995391465466598, time:2.4828476905822754\n",
      "saved\n",
      "EPOCH 47/50:\n",
      "loss: 0.003529764633424047, acc: 0.9954287711535162, val_loss: 0.004169901367276907, val_acc: 0.9954662790981464, time:2.3234779834747314\n",
      "saved\n",
      "EPOCH 48/50:\n",
      "loss: 0.0035003905475773935, acc: 0.9955028088697666, val_loss: 0.004293663427233696, val_acc: 0.995536155662739, time:2.3267838954925537\n",
      "saved\n",
      "EPOCH 49/50:\n",
      "loss: 0.0033826547247080953, acc: 0.9955717565256581, val_loss: 0.0042026410810649395, val_acc: 0.995607029379837, time:2.5714781284332275\n",
      "saved\n",
      "EPOCH 50/50:\n",
      "loss: 0.003337983473551787, acc: 0.9956395716254893, val_loss: 0.004281398840248585, val_acc: 0.995673050931025, time:2.5818376541137695\n",
      "saved\n"
     ]
    }
   ],
   "source": [
    "import time\n",
    "\n",
    "epoch_number = 0\n",
    "EPOCHS = 50\n",
    "torch.backends.cudnn.benchmark = True\n",
    "\n",
    "for epoch in range(EPOCHS):\n",
    "    start_time = time.time()\n",
    "    print('EPOCH {}/{}:'.format(epoch_number + 1, EPOCHS))\n",
    "\n",
    "    # Make sure gradient tracking is on, and do a pass over the data\n",
    "    model.train()\n",
    "    avg_loss, avg_acc = train_one_epoch()\n",
    "\n",
    "\n",
    "    running_vloss = 0.0\n",
    "    runing_acc = 0.0\n",
    "    # Set the model to evaluation mode, disabling dropout and using population\n",
    "    # statistics for batch normalization.\n",
    "    model.eval()\n",
    "\n",
    "    # Disable gradient computation and reduce memory consumption.\n",
    "    with torch.no_grad():\n",
    "        for i, vdata in enumerate(validation_loader):\n",
    "            vinputs, vlabels = vdata\n",
    "            \n",
    "            # for classification\n",
    "            vlabels = vlabels.cuda().float()\n",
    "            \n",
    "            # for predicition\n",
    "            #vlabels = torch.reshape(vlabels.cuda().float(), (-1,1))\n",
    "            \n",
    "            voutputs = model(vinputs.cuda().float()).squeeze()\n",
    "            metric.update(voutputs, vlabels)\n",
    "            runing_acc += metric.compute().item()\n",
    "            vloss = loss_fn(voutputs, vlabels)\n",
    "            running_vloss += vloss\n",
    "\n",
    "    avg_vloss = running_vloss / len(validation_loader)\n",
    "    avg_vacc = runing_acc / len(validation_loader)\n",
    "    print('loss: {}, acc: {}, val_loss: {}, val_acc: {}, time:{}'.format(avg_loss, avg_acc, avg_vloss, avg_vacc, (time.time() - start_time)))\n",
    "    \n",
    "    # add history \n",
    "    h.add_history(avg_loss, avg_acc, avg_vloss, avg_vacc, (time.time() - start_time))\n",
    "    \n",
    "    # Track best performance, and save the model's state\n",
    "    if avg_vloss < best_vloss:\n",
    "        best_vloss = avg_vloss\n",
    "        model_path = 'models/{}/epoch_{}'.format(model_name, epoch_number)\n",
    "        torch.save(model.state_dict(), model_path)\n",
    "        print(\"saved\")\n",
    "    elif avg_vacc > best_vacc:\n",
    "        best_vacc = avg_vacc\n",
    "        model_path = 'models/{}/epoch_{}'.format(model_name,model_name,epoch_number)\n",
    "        torch.save(model.state_dict(), model_path)\n",
    "        print(\"saved\")\n",
    "    epoch_number += 1"
   ]
  },
  {
   "cell_type": "code",
   "execution_count": 50,
   "metadata": {},
   "outputs": [],
   "source": [
    "h.val_loss = list([i.item() for i in h.val_loss])"
   ]
  },
  {
   "cell_type": "code",
   "execution_count": 51,
   "metadata": {},
   "outputs": [
    {
     "data": {
      "image/png": "[encoded data removed]",
      "text/plain": [
       "<Figure size 640x480 with 1 Axes>"
      ]
     },
     "metadata": {},
     "output_type": "display_data"
    }
   ],
   "source": [
    "import matplotlib.pyplot as plt\n",
    "\n",
    "plt.plot(h.train_loss)\n",
    "plt.plot(h.val_loss )\n",
    "plt.savefig(\"result/\"+model_name+\"/loss_plot.png\")"
   ]
  },
  {
   "cell_type": "code",
   "execution_count": 52,
   "metadata": {},
   "outputs": [
    {
     "data": {
      "image/png": "[encoded data removed]",
      "text/plain": [
       "<Figure size 640x480 with 1 Axes>"
      ]
     },
     "metadata": {},
     "output_type": "display_data"
    }
   ],
   "source": [
    "plt.plot(h.train_acc)\n",
    "plt.plot( h.val_acc)\n",
    "plt.savefig(\"result/\"+model_name+\"/accuracy_plot.png\")"
   ]
  },
  {
   "cell_type": "code",
   "execution_count": 53,
   "metadata": {},
   "outputs": [
    {
     "data": {
      "image/png": "[encoded data removed]",
      "text/plain": [
       "<Figure size 640x480 with 1 Axes>"
      ]
     },
     "metadata": {},
     "output_type": "display_data"
    }
   ],
   "source": [
    "plt.boxplot(h.times)\n",
    "plt.savefig(\"result/\"+model_name+\"/time_spent_per_epoch.png\")"
   ]
  },
  {
   "cell_type": "code",
   "execution_count": 54,
   "metadata": {},
   "outputs": [],
   "source": [
    "import pandas as pd\n",
    "pd.DataFrame(h.__dict__).to_csv(\"result/\"+model_name+\"/data.csv\")"
   ]
  }
 ],
 "metadata": {
  "kernelspec": {
   "display_name": ".venv",
   "language": "python",
   "name": "python3"
  },
  "language_info": {
   "codemirror_mode": {
    "name": "ipython",
    "version": 3
   },
   "file_extension": ".py",
   "mimetype": "text/x-python",
   "name": "python",
   "nbconvert_exporter": "python",
   "pygments_lexer": "ipython3",
   "version": "3.10.7"
  }
 },
 "nbformat": 4,
 "nbformat_minor": 2
}
