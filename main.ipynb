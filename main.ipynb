{
 "cells": [
  {
   "cell_type": "markdown",
   "metadata": {},
   "source": [
    "### Importing Datas"
   ]
  },
  {
   "cell_type": "code",
   "execution_count": 10,
   "metadata": {},
   "outputs": [],
   "source": [
    "from kmer_counting import sequence2matrix\n",
    "import numpy as np \n",
    "from Bio import SeqIO"
   ]
  },
  {
   "cell_type": "code",
   "execution_count": 11,
   "metadata": {},
   "outputs": [
    {
     "data": {
      "text/plain": [
       "(32914, 47589)"
      ]
     },
     "execution_count": 11,
     "metadata": {},
     "output_type": "execute_result"
    }
   ],
   "source": [
    "circ_rna_path = \"dataset/circRNA_fasta\"\n",
    "circ_rna_seq = [str(i.seq) for i in list(SeqIO.parse(circ_rna_path, \"fasta\"))]\n",
    "non_circ_rna_path = \"dataset/noncircRNA.fa\"\n",
    "non_circ_rna_path = [str(i.seq) for i in list(SeqIO.parse(non_circ_rna_path, \"fasta\"))]\n",
    "len(circ_rna_seq), len(non_circ_rna_path)"
   ]
  },
  {
   "cell_type": "code",
   "execution_count": 12,
   "metadata": {},
   "outputs": [],
   "source": [
    "def convert_to_vector(list_seq, file_path):\n",
    "    converter = sequence2matrix()\n",
    "    seq = [i[\"sequence\"] for i in list_seq]\n",
    "    matrix = converter.fit(seq, save_dir=file_path)\n",
    "    for i,j in zip(matrix,list_seq):\n",
    "        j[\"vector\"] = i\n",
    "    return list_seq"
   ]
  },
  {
   "cell_type": "code",
   "execution_count": 13,
   "metadata": {},
   "outputs": [
    {
     "data": {
      "text/plain": [
       "80503"
      ]
     },
     "execution_count": 13,
     "metadata": {},
     "output_type": "execute_result"
    }
   ],
   "source": [
    "all_data = [{\"sequence\":i,\n",
    "             \"label\":\"circ_rna\"} for i in circ_rna_seq]\n",
    "[all_data.append({\"sequence\":i,\"label\":\"non_circ_rna\"}) for i in non_circ_rna_path]\n",
    "len(all_data)"
   ]
  },
  {
   "cell_type": "code",
   "execution_count": 14,
   "metadata": {},
   "outputs": [],
   "source": [
    "matrix = convert_to_vector(all_data, \"dataset/data\")\n",
    "np.save(\"dataset/all_data\", matrix)"
   ]
  },
  {
   "cell_type": "markdown",
   "metadata": {},
   "source": [
    "### Preprocessing Data"
   ]
  },
  {
   "cell_type": "code",
   "execution_count": 13,
   "metadata": {},
   "outputs": [],
   "source": [
    "import math\n",
    "from typing import List\n",
    "import copy\n",
    "import numpy as np\n",
    "import matplotlib.pyplot as plt\n",
    "import tqdm\n",
    "from multiprocessing import Pool\n",
    "import multiprocessing"
   ]
  },
  {
   "cell_type": "code",
   "execution_count": 14,
   "metadata": {},
   "outputs": [
    {
     "data": {
      "text/plain": [
       "(dtype('float64'), (80303, 256))"
      ]
     },
     "execution_count": 14,
     "metadata": {},
     "output_type": "execute_result"
    }
   ],
   "source": [
    "# load data\n",
    "X = np.array([[*i[\"vector\"].values()] for i in np.load(\"dataset/all_data.npy\", allow_pickle=True) if i[\"vector\"] != 0])\n",
    "X = X.astype(\"float64\")\n",
    "X.dtype, X.shape"
   ]
  },
  {
   "cell_type": "markdown",
   "metadata": {},
   "source": [
    "#### Gaussian Blur"
   ]
  },
  {
   "cell_type": "code",
   "execution_count": 15,
   "metadata": {},
   "outputs": [],
   "source": [
    "def gauss(x:float, sigma:float):\n",
    "    #print(math.exp(-0.5*x*x/(sigma*sigma))/(sigma*math.sqrt(2*math.pi)))\n",
    "    return math.exp(-0.5*x*x/(sigma*sigma))/(sigma*math.sqrt(2*math.pi))"
   ]
  },
  {
   "cell_type": "code",
   "execution_count": 16,
   "metadata": {},
   "outputs": [],
   "source": [
    "def gaussian_blur(vector:List[str], kernel_size:int=5,sigma:float=1):\n",
    "    vector_length = len(vector)\n",
    "    kernel_size = int(0.1*vector_length)\n",
    "    new_vector = copy.deepcopy(vector)\n",
    "    for i in range(vector_length):\n",
    "        new_value = 0\n",
    "        for j in range(max(0, i-kernel_size), min(vector_length,i+kernel_size)):\n",
    "            new_value += gauss(j-i, sigma)*new_vector[j]\n",
    "        new_vector[i] = new_value/(min(vector_length,i+vector_length)-max(0, i-vector_length))\n",
    "    return new_vector"
   ]
  },
  {
   "cell_type": "code",
   "execution_count": 17,
   "metadata": {},
   "outputs": [
    {
     "name": "stderr",
     "output_type": "stream",
     "text": [
      "  0%|          | 0/80303 [00:00<?, ?it/s]"
     ]
    },
    {
     "name": "stderr",
     "output_type": "stream",
     "text": [
      "100%|██████████| 80303/80303 [06:18<00:00, 212.27it/s]\n"
     ]
    }
   ],
   "source": [
    "np.save(\"dataset/processed_data\", [gaussian_blur(vector) for vector in tqdm.tqdm(X)])"
   ]
  },
  {
   "cell_type": "markdown",
   "metadata": {},
   "source": [
    "### Load Data and Splitting"
   ]
  },
  {
   "cell_type": "code",
   "execution_count": 39,
   "metadata": {},
   "outputs": [],
   "source": [
    "import numpy as np"
   ]
  },
  {
   "cell_type": "code",
   "execution_count": 40,
   "metadata": {},
   "outputs": [],
   "source": [
    "X = np.load(\"dataset/processed_data.npy\")\n",
    "converter = {\n",
    "    \"circ_rna\": 0,\n",
    "    \"non_circ_rna\":1\n",
    "}\n",
    "y = [converter[i[\"label\"]] for i in np.load(\"dataset/all_data.npy\", allow_pickle=True) if i[\"vector\"] != 0]"
   ]
  },
  {
   "cell_type": "code",
   "execution_count": 42,
   "metadata": {},
   "outputs": [
    {
     "data": {
      "text/plain": [
       "{0: 23158, 1: 33054}"
      ]
     },
     "execution_count": 42,
     "metadata": {},
     "output_type": "execute_result"
    }
   ],
   "source": [
    "from sklearn.model_selection import train_test_split\n",
    "# for classification\n",
    "X_train, X_test, y_train, y_test = train_test_split(X, y, test_size = 0.3) \n",
    "# for classification\n",
    "unique, counts = np.unique(y_train, return_counts=True)\n",
    "dict(zip(unique, counts))"
   ]
  },
  {
   "cell_type": "markdown",
   "metadata": {},
   "source": [
    "### Model Training"
   ]
  },
  {
   "cell_type": "code",
   "execution_count": 43,
   "metadata": {},
   "outputs": [],
   "source": [
    "import torch\n",
    "import torch.nn as nn\n",
    "import torch.optim as optim"
   ]
  },
  {
   "cell_type": "code",
   "execution_count": 44,
   "metadata": {},
   "outputs": [
    {
     "name": "stdout",
     "output_type": "stream",
     "text": [
      "using cuda:0\n"
     ]
    }
   ],
   "source": [
    "if torch.cuda.is_available(): \n",
    "    dev = \"cuda:0\" \n",
    "else: \n",
    "    dev = \"cpu\" \n",
    "device = torch.device(dev) \n",
    "print(\"using\", device)\n",
    "torch.backends.cudnn.benchmark = True"
   ]
  },
  {
   "cell_type": "code",
   "execution_count": 45,
   "metadata": {},
   "outputs": [
    {
     "data": {
      "text/plain": [
       "((torch.Size([56212, 256]), torch.Size([56212])),\n",
       " (torch.Size([24091, 256]), torch.Size([24091])))"
      ]
     },
     "execution_count": 45,
     "metadata": {},
     "output_type": "execute_result"
    }
   ],
   "source": [
    "tensor_x_train = torch.tensor(X_train).to(device)\n",
    "tensor_y_train = torch.tensor(y_train).to(device)\n",
    "tensor_x_test = torch.tensor(X_test).to(device)\n",
    "tensor_y_test = torch.tensor(y_test).to(device)\n",
    "\n",
    "(tensor_x_train.shape, tensor_y_train.shape), (tensor_x_test.shape, tensor_y_test.shape)"
   ]
  },
  {
   "cell_type": "code",
   "execution_count": 46,
   "metadata": {},
   "outputs": [],
   "source": [
    "class Model(nn.Module):\n",
    "    def __init__(self, input_size, output_size, hidden_dim):\n",
    "        super(Model, self).__init__()\n",
    "\n",
    "        # Defining some parameters\n",
    "        self.hidden_dim = hidden_dim\n",
    "\n",
    "        #Defining the layers\n",
    "        self.layer1 = nn.Linear(input_size, hidden_dim, bias=True)\n",
    "        self.activationlayer1 = nn.LeakyReLU()\n",
    "        self.layer2 = nn.Linear(hidden_dim, hidden_dim, bias=True)\n",
    "        self.activationlayer2 = nn.LeakyReLU()\n",
    "        self.layer3 = nn.Linear(hidden_dim, int(hidden_dim/2), bias=True)\n",
    "        self.activationlayer3 = nn.LeakyReLU()\n",
    "        self.layer4 = nn.Linear(int(hidden_dim/2), int(hidden_dim/4), bias=True)\n",
    "        self.activationlayer4 = nn.LeakyReLU()\n",
    "        self.ouput = nn.Linear(int(hidden_dim/4), output_size, bias=True)\n",
    "        # for classification\n",
    "        self.outputactivation = nn.Sigmoid()\n",
    "        # for predicition\n",
    "        #self.outputactivation = nn.Hardtanh(min_val=min_val, max_val=max_val)\n",
    "    \n",
    "    def forward(self, x):\n",
    "        x = self.layer1(x)\n",
    "        x = self.activationlayer1(x)\n",
    "        x = self.layer2(x)\n",
    "        x = self.activationlayer2(x)\n",
    "        x = self.layer3(x)\n",
    "        x = self.activationlayer3(x)\n",
    "        x = self.layer4(x)\n",
    "        x = self.activationlayer4(x)\n",
    "        x = self.ouput(x)\n",
    "        x = self.outputactivation(x)\n",
    "        return x"
   ]
  },
  {
   "cell_type": "code",
   "execution_count": 47,
   "metadata": {},
   "outputs": [
    {
     "data": {
      "text/plain": [
       "256"
      ]
     },
     "execution_count": 47,
     "metadata": {},
     "output_type": "execute_result"
    }
   ],
   "source": [
    "'''JANGAN LUPA GANTI NAMA MODEL'''\n",
    "model_name = \"model_0\"\n",
    "\n",
    "input_size = tensor_x_train.shape[1]\n",
    "hidden_dim = 64\n",
    "batch_size = 64\n",
    "learning_rate = 1e-4\n",
    "output_size = 1\n",
    "input_size"
   ]
  },
  {
   "cell_type": "code",
   "execution_count": 48,
   "metadata": {},
   "outputs": [],
   "source": [
    "import torch.utils.data as data\n",
    "from torcheval.metrics import BinaryAccuracy\n",
    "\n",
    "\n",
    "# compile model\n",
    "model = Model(input_size=input_size, output_size=output_size, hidden_dim=hidden_dim).to(device)\n",
    "optimizer = optim.Adam(model.parameters(), lr=learning_rate)\n",
    "training_loader = data.DataLoader(data.TensorDataset(tensor_x_train, tensor_y_train), shuffle=True, batch_size=batch_size)\n",
    "validation_loader = data.DataLoader(data.TensorDataset(tensor_x_test, tensor_y_test), shuffle=True, batch_size=batch_size)\n",
    "#scheduler = StepLR(optimizer, step_size=100, gamma=0.1)\n",
    "\n",
    "# this is for classification\n",
    "loss_fn = nn.BCELoss().to(device) # sparse categorical cross entropy\n",
    "metric = BinaryAccuracy().to(device)\n"
   ]
  },
  {
   "cell_type": "code",
   "execution_count": 49,
   "metadata": {},
   "outputs": [
    {
     "data": {
      "text/plain": [
       "==========================================================================================\n",
       "Layer (type:depth-idx)                   Output Shape              Param #\n",
       "==========================================================================================\n",
       "Model                                    [64, 1]                   --\n",
       "├─Linear: 1-1                            [64, 64]                  16,448\n",
       "├─LeakyReLU: 1-2                         [64, 64]                  --\n",
       "├─Linear: 1-3                            [64, 64]                  4,160\n",
       "├─LeakyReLU: 1-4                         [64, 64]                  --\n",
       "├─Linear: 1-5                            [64, 32]                  2,080\n",
       "├─LeakyReLU: 1-6                         [64, 32]                  --\n",
       "├─Linear: 1-7                            [64, 16]                  528\n",
       "├─LeakyReLU: 1-8                         [64, 16]                  --\n",
       "├─Linear: 1-9                            [64, 1]                   17\n",
       "├─Sigmoid: 1-10                          [64, 1]                   --\n",
       "==========================================================================================\n",
       "Total params: 23,233\n",
       "Trainable params: 23,233\n",
       "Non-trainable params: 0\n",
       "Total mult-adds (M): 1.49\n",
       "==========================================================================================\n",
       "Input size (MB): 0.07\n",
       "Forward/backward pass size (MB): 0.09\n",
       "Params size (MB): 0.09\n",
       "Estimated Total Size (MB): 0.25\n",
       "=========================================================================================="
      ]
     },
     "execution_count": 49,
     "metadata": {},
     "output_type": "execute_result"
    }
   ],
   "source": [
    "from torchinfo import summary\n",
    "\n",
    "x = summary(model, input_size=(batch_size, input_size))\n",
    "text_file = open(\"models/\"+model_name+\"/summary.txt\", \"w\", encoding=\"utf-8\")\n",
    "text_file.writelines(str(x))\n",
    "text_file.close()\n",
    "x"
   ]
  },
  {
   "cell_type": "code",
   "execution_count": 50,
   "metadata": {},
   "outputs": [],
   "source": [
    "def train_one_epoch():\n",
    "    step_loss = 0\n",
    "    step_acc = 0\n",
    "    running_loss = 0\n",
    "    running_acc = 0\n",
    "    for i, data in enumerate(training_loader):\n",
    "        # Every data instance is an input + label pair\n",
    "        inputs, labels = data\n",
    "        \n",
    "        # Make predictions for this batch\n",
    "        outputs = model(inputs.cuda().float()).squeeze()\n",
    "\n",
    "        # for classification: convert labels to long tensor\n",
    "        labels = labels.cuda().float()\n",
    "        \n",
    "        # for predicition: convert labels to float tensor\n",
    "        #labels = torch.reshape(labels.cuda().float(), (-1,1))\n",
    "        \n",
    "        # Compute the loss and its gradients\n",
    "        # Zero your gradients for every batch!\n",
    "        optimizer.zero_grad()\n",
    "        \n",
    "        loss = loss_fn(outputs, labels)\n",
    "        loss.backward()\n",
    "        \n",
    "        # Compute the accuracy\n",
    "        metric.update(outputs, labels)\n",
    "        \n",
    "        # Adjust learning weights\n",
    "        optimizer.step()\n",
    "        #scheduler.step()\n",
    "        \n",
    "        # Gather data loss and accuracy\n",
    "        running_loss += loss.item()\n",
    "        running_acc += metric.compute().item()\n",
    "    \n",
    "    step_loss = (running_loss/len(training_loader))\n",
    "    step_acc = (running_acc/len(training_loader))\n",
    "        # print('  STEP {} loss: {}, accuracy: {}'.format(steps+1, running_loss/len(training_loader), running_acc/len(training_loader)))\n",
    "    return step_loss, step_acc"
   ]
  },
  {
   "cell_type": "code",
   "execution_count": 51,
   "metadata": {},
   "outputs": [],
   "source": [
    "class history:\n",
    "    def __init__(self):\n",
    "        self.train_loss = []\n",
    "        self.train_acc = []\n",
    "        self.val_loss = []\n",
    "        self.val_acc = []\n",
    "        self.times = []\n",
    "    def add_history(self, train_loss, train_acc, val_loss, val_acc, time_spent):\n",
    "        self.train_loss.append(train_loss)\n",
    "        self.train_acc.append(train_acc)\n",
    "        self.val_loss.append(val_loss)\n",
    "        self.val_acc.append(val_acc)\n",
    "        self.times.append(time_spent)"
   ]
  },
  {
   "cell_type": "code",
   "execution_count": 52,
   "metadata": {},
   "outputs": [],
   "source": [
    "h = history()\n",
    "best_vloss = 1_000_000.\n",
    "best_vacc = 0"
   ]
  },
  {
   "cell_type": "code",
   "execution_count": 53,
   "metadata": {},
   "outputs": [
    {
     "name": "stdout",
     "output_type": "stream",
     "text": [
      "EPOCH 1/50:\n",
      "loss: 0.3839270098387042, acc: 0.7025029832185739, val_loss: 0.05790375545620918, val_acc: 0.870194632905864, time:2.426499605178833\n",
      "saved\n",
      "EPOCH 2/50:\n",
      "loss: 0.03645965255811743, acc: 0.9131991290937648, val_loss: 0.03126475214958191, val_acc: 0.9355722066578245, time:2.459339141845703\n",
      "saved\n",
      "EPOCH 3/50:\n",
      "loss: 0.025380702771933005, acc: 0.9474198242503221, val_loss: 0.024476146325469017, val_acc: 0.9557379194849049, time:2.450533151626587\n",
      "saved\n",
      "EPOCH 4/50:\n",
      "loss: 0.021579039572479586, acc: 0.9613266790686207, val_loss: 0.021204065531492233, val_acc: 0.9657277471190738, time:2.5504038333892822\n",
      "saved\n",
      "EPOCH 5/50:\n",
      "loss: 0.019048156498176965, acc: 0.9690444360956533, val_loss: 0.01858283206820488, val_acc: 0.9717213212653244, time:2.848271608352661\n",
      "saved\n",
      "EPOCH 6/50:\n",
      "loss: 0.016813613725807603, acc: 0.9739148026847189, val_loss: 0.016451945528388023, val_acc: 0.975796547429315, time:2.559860944747925\n",
      "saved\n",
      "EPOCH 7/50:\n",
      "loss: 0.015036406830989939, acc: 0.9773562410178852, val_loss: 0.015472057275474072, val_acc: 0.978743613714881, time:2.5283920764923096\n",
      "saved\n",
      "EPOCH 8/50:\n",
      "loss: 0.013521624884919916, acc: 0.9799150449559686, val_loss: 0.01322814542800188, val_acc: 0.9809753409431214, time:2.9465034008026123\n",
      "saved\n",
      "EPOCH 9/50:\n",
      "loss: 0.012147118818874135, acc: 0.9819004447522559, val_loss: 0.011997876688838005, val_acc: 0.9827527925569752, time:2.847607135772705\n",
      "saved\n",
      "EPOCH 10/50:\n",
      "loss: 0.011086049355647026, acc: 0.983512754394197, val_loss: 0.011102425865828991, val_acc: 0.984194094369519, time:2.9580869674682617\n",
      "saved\n",
      "EPOCH 11/50:\n",
      "loss: 0.009987436951123776, acc: 0.9848146481318686, val_loss: 0.01162755023688078, val_acc: 0.9853881219653932, time:2.9537136554718018\n",
      "saved\n",
      "EPOCH 12/50:\n",
      "loss: 0.009377819654956647, acc: 0.985896749708026, val_loss: 0.009449539706110954, val_acc: 0.9863861840346764, time:2.92937970161438\n",
      "saved\n",
      "EPOCH 13/50:\n",
      "loss: 0.008685630120188543, acc: 0.9868336723390564, val_loss: 0.008905996568500996, val_acc: 0.9872443342398586, time:2.9281837940216064\n",
      "saved\n",
      "EPOCH 14/50:\n",
      "loss: 0.007953972773528705, acc: 0.9876310035365976, val_loss: 0.009839208796620369, val_acc: 0.9879828245633477, time:2.750214099884033\n",
      "saved\n",
      "EPOCH 15/50:\n",
      "loss: 0.007624174677624486, acc: 0.9883072948564305, val_loss: 0.008305857889354229, val_acc: 0.9886218802682285, time:3.013608932495117\n",
      "saved\n",
      "EPOCH 16/50:\n",
      "loss: 0.007267308754223188, acc: 0.9889142772985943, val_loss: 0.007947788573801517, val_acc: 0.9891925577459664, time:2.936228036880493\n",
      "saved\n",
      "EPOCH 17/50:\n",
      "loss: 0.006796433580692646, acc: 0.9894490294217793, val_loss: 0.007516893558204174, val_acc: 0.9897001219681151, time:2.9674129486083984\n",
      "saved\n",
      "EPOCH 18/50:\n",
      "loss: 0.006564366767818231, acc: 0.9899354444157684, val_loss: 0.007153078448027372, val_acc: 0.9901556258808712, time:2.72686505317688\n",
      "saved\n",
      "EPOCH 19/50:\n",
      "loss: 0.006263340505200951, acc: 0.9903632085071082, val_loss: 0.007067502476274967, val_acc: 0.990562378095379, time:2.554246425628662\n",
      "saved\n",
      "EPOCH 20/50:\n",
      "loss: 0.006142010600744969, acc: 0.9907520271676663, val_loss: 0.007401514332741499, val_acc: 0.9909332220687158, time:2.52443265914917\n",
      "saved\n",
      "EPOCH 21/50:\n",
      "loss: 0.005697886402927582, acc: 0.9911045494475598, val_loss: 0.006541932001709938, val_acc: 0.9912770151775775, time:2.631793260574341\n",
      "saved\n",
      "EPOCH 22/50:\n",
      "loss: 0.005695589545420996, acc: 0.9914386151729319, val_loss: 0.006542319431900978, val_acc: 0.9915938250898366, time:2.605928897857666\n",
      "saved\n",
      "EPOCH 23/50:\n",
      "loss: 0.005422458859560828, acc: 0.9917364953185376, val_loss: 0.00657202024012804, val_acc: 0.9918775616969607, time:2.4797399044036865\n",
      "saved\n",
      "EPOCH 24/50:\n",
      "loss: 0.005355029634984797, acc: 0.9920086182560666, val_loss: 0.0063465433195233345, val_acc: 0.9921401558883627, time:2.5463597774505615\n",
      "saved\n",
      "EPOCH 25/50:\n",
      "loss: 0.005200793567236897, acc: 0.9922633731866995, val_loss: 0.007952013052999973, val_acc: 0.992378962134809, time:2.7882931232452393\n",
      "saved\n",
      "EPOCH 26/50:\n",
      "loss: 0.00512625244040251, acc: 0.992489106147905, val_loss: 0.006083977874368429, val_acc: 0.9926000158413651, time:2.5773234367370605\n",
      "saved\n",
      "EPOCH 27/50:\n",
      "loss: 0.004895958951179902, acc: 0.99270676413765, val_loss: 0.0060333735309541225, val_acc: 0.9928123701156293, time:2.48966383934021\n",
      "saved\n",
      "EPOCH 28/50:\n",
      "loss: 0.004819126432459238, acc: 0.9929124675648747, val_loss: 0.007166941184550524, val_acc: 0.9930068069490893, time:2.48828125\n",
      "saved\n",
      "EPOCH 29/50:\n",
      "loss: 0.004721522701328674, acc: 0.9931003864985956, val_loss: 0.006855157669633627, val_acc: 0.9931898449080693, time:2.646125078201294\n",
      "saved\n",
      "EPOCH 30/50:\n",
      "loss: 0.004538031533399204, acc: 0.993278404958419, val_loss: 0.005913496948778629, val_acc: 0.9933627818560411, time:2.6808602809906006\n",
      "saved\n",
      "EPOCH 31/50:\n",
      "loss: 0.004452850899893236, acc: 0.9934439187841881, val_loss: 0.005981998518109322, val_acc: 0.9935264928903756, time:2.641252279281616\n",
      "saved\n",
      "EPOCH 32/50:\n",
      "loss: 0.004329535511068538, acc: 0.9936033416797955, val_loss: 0.005934152286499739, val_acc: 0.9936794418871244, time:2.7438254356384277\n",
      "saved\n",
      "EPOCH 33/50:\n",
      "loss: 0.004362418559560889, acc: 0.9937540475825808, val_loss: 0.006153357680886984, val_acc: 0.9938244870233915, time:2.610168218612671\n",
      "saved\n",
      "EPOCH 34/50:\n",
      "loss: 0.004146129634758074, acc: 0.9938932173759322, val_loss: 0.005778459832072258, val_acc: 0.9939621446619615, time:2.6190693378448486\n",
      "saved\n",
      "EPOCH 35/50:\n",
      "loss: 0.004127006618311272, acc: 0.994028335409631, val_loss: 0.006162560079246759, val_acc: 0.994093367212331, time:2.6344006061553955\n",
      "saved\n",
      "EPOCH 36/50:\n",
      "loss: 0.004000085810331133, acc: 0.9941549023128071, val_loss: 0.005987727548927069, val_acc: 0.994215296655498, time:2.6258015632629395\n",
      "saved\n",
      "EPOCH 37/50:\n",
      "loss: 0.003971325904535377, acc: 0.9942744464461986, val_loss: 0.00692337891086936, val_acc: 0.9943312785985932, time:2.580636739730835\n",
      "saved\n",
      "EPOCH 38/50:\n",
      "loss: 0.003828628444039432, acc: 0.9943876179683195, val_loss: 0.005855541676282883, val_acc: 0.9944436354093273, time:2.7437984943389893\n",
      "saved\n",
      "EPOCH 39/50:\n",
      "loss: 0.003846608545927407, acc: 0.994497301432053, val_loss: 0.006279117427766323, val_acc: 0.9945488442476611, time:2.64573073387146\n",
      "saved\n",
      "EPOCH 40/50:\n",
      "loss: 0.003621540212244679, acc: 0.9946005258272668, val_loss: 0.0055892677046358585, val_acc: 0.9946529009930335, time:2.6596133708953857\n",
      "saved\n",
      "EPOCH 41/50:\n",
      "loss: 0.0036255112846443308, acc: 0.9947020594577334, val_loss: 0.005826130509376526, val_acc: 0.9947505522153738, time:2.5195608139038086\n",
      "saved\n",
      "EPOCH 42/50:\n",
      "loss: 0.0035080338416590496, acc: 0.9947976039402585, val_loss: 0.005541674792766571, val_acc: 0.9948436992554197, time:2.62870192527771\n",
      "saved\n",
      "EPOCH 43/50:\n",
      "loss: 0.003331318663726956, acc: 0.9948914866805484, val_loss: 0.005729755386710167, val_acc: 0.9949366379163626, time:2.569770097732544\n",
      "saved\n",
      "EPOCH 44/50:\n",
      "loss: 0.0035534293812797407, acc: 0.9949787689014777, val_loss: 0.005521109327673912, val_acc: 0.9950207209397374, time:2.5999748706817627\n",
      "saved\n",
      "EPOCH 45/50:\n",
      "loss: 0.003289193275023857, acc: 0.9950627596440711, val_loss: 0.005656012799590826, val_acc: 0.9951042967702729, time:2.6236281394958496\n",
      "saved\n",
      "EPOCH 46/50:\n",
      "loss: 0.003135157393427574, acc: 0.9951424450190808, val_loss: 0.005898938048630953, val_acc: 0.9951825794870088, time:2.560635566711426\n",
      "saved\n",
      "EPOCH 47/50:\n",
      "loss: 0.003166795977645067, acc: 0.9952215864932307, val_loss: 0.005572965368628502, val_acc: 0.995260252718584, time:2.4958202838897705\n",
      "saved\n",
      "EPOCH 48/50:\n",
      "loss: 0.003169768129030654, acc: 0.9952960301855996, val_loss: 0.005527028348296881, val_acc: 0.9953344432681562, time:2.5893330574035645\n",
      "saved\n",
      "EPOCH 49/50:\n",
      "loss: 0.003098955322014338, acc: 0.995368949450188, val_loss: 0.006032894365489483, val_acc: 0.9954043180936212, time:2.539479970932007\n",
      "saved\n",
      "EPOCH 50/50:\n",
      "loss: 0.002915798453774493, acc: 0.9954395050074867, val_loss: 0.005513688083738089, val_acc: 0.9954749797952587, time:2.633948564529419\n",
      "saved\n"
     ]
    }
   ],
   "source": [
    "import time\n",
    "\n",
    "epoch_number = 0\n",
    "EPOCHS = 50\n",
    "torch.backends.cudnn.benchmark = True\n",
    "\n",
    "for epoch in range(EPOCHS):\n",
    "    start_time = time.time()\n",
    "    print('EPOCH {}/{}:'.format(epoch_number + 1, EPOCHS))\n",
    "\n",
    "    # Make sure gradient tracking is on, and do a pass over the data\n",
    "    model.train()\n",
    "    avg_loss, avg_acc = train_one_epoch()\n",
    "\n",
    "\n",
    "    running_vloss = 0.0\n",
    "    runing_acc = 0.0\n",
    "    # Set the model to evaluation mode, disabling dropout and using population\n",
    "    # statistics for batch normalization.\n",
    "    model.eval()\n",
    "\n",
    "    # Disable gradient computation and reduce memory consumption.\n",
    "    with torch.no_grad():\n",
    "        for i, vdata in enumerate(validation_loader):\n",
    "            vinputs, vlabels = vdata\n",
    "            \n",
    "            # for classification\n",
    "            vlabels = vlabels.cuda().float()\n",
    "            \n",
    "            # for predicition\n",
    "            #vlabels = torch.reshape(vlabels.cuda().float(), (-1,1))\n",
    "            \n",
    "            voutputs = model(vinputs.cuda().float()).squeeze()\n",
    "            metric.update(voutputs, vlabels)\n",
    "            runing_acc += metric.compute().item()\n",
    "            vloss = loss_fn(voutputs, vlabels)\n",
    "            running_vloss += vloss\n",
    "\n",
    "    avg_vloss = running_vloss / len(validation_loader)\n",
    "    avg_vacc = runing_acc / len(validation_loader)\n",
    "    print('loss: {}, acc: {}, val_loss: {}, val_acc: {}, time:{}'.format(avg_loss, avg_acc, avg_vloss, avg_vacc, (time.time() - start_time)))\n",
    "    \n",
    "    # add history \n",
    "    h.add_history(avg_loss, avg_acc, avg_vloss, avg_vacc, (time.time() - start_time))\n",
    "    \n",
    "    # Track best performance, and save the model's state\n",
    "    if avg_vloss < best_vloss:\n",
    "        best_vloss = avg_vloss\n",
    "        model_path = 'models/{}/epoch_{}'.format(model_name, epoch_number)\n",
    "        torch.save(model.state_dict(), model_path)\n",
    "        print(\"saved\")\n",
    "    elif avg_vacc > best_vacc:\n",
    "        best_vacc = avg_vacc\n",
    "        model_path = 'models/{}/epoch_{}'.format(model_name,model_name,epoch_number)\n",
    "        torch.save(model.state_dict(), model_path)\n",
    "        print(\"saved\")\n",
    "    epoch_number += 1"
   ]
  },
  {
   "cell_type": "code",
   "execution_count": 54,
   "metadata": {},
   "outputs": [],
   "source": [
    "h.val_loss = list([i.item() for i in h.val_loss])"
   ]
  },
  {
   "cell_type": "code",
   "execution_count": 55,
   "metadata": {},
   "outputs": [
    {
     "data": {
      "image/png": "[encoded data removed]",
      "text/plain": [
       "<Figure size 640x480 with 1 Axes>"
      ]
     },
     "metadata": {},
     "output_type": "display_data"
    }
   ],
   "source": [
    "import matplotlib.pyplot as plt\n",
    "\n",
    "plt.plot(h.train_loss)\n",
    "plt.plot(h.val_loss )\n",
    "plt.savefig(\"result/\"+model_name+\"/loss_plot.png\")"
   ]
  },
  {
   "cell_type": "code",
   "execution_count": 56,
   "metadata": {},
   "outputs": [
    {
     "data": {
      "image/png": "[encoded data removed]",
      "text/plain": [
       "<Figure size 640x480 with 1 Axes>"
      ]
     },
     "metadata": {},
     "output_type": "display_data"
    }
   ],
   "source": [
    "plt.plot(h.train_acc)\n",
    "plt.plot( h.val_acc)\n",
    "plt.savefig(\"result/\"+model_name+\"/accuracy_plot.png\")"
   ]
  },
  {
   "cell_type": "code",
   "execution_count": 57,
   "metadata": {},
   "outputs": [
    {
     "data": {
      "image/png": "[encoded data removed]",
      "text/plain": [
       "<Figure size 640x480 with 1 Axes>"
      ]
     },
     "metadata": {},
     "output_type": "display_data"
    }
   ],
   "source": [
    "plt.boxplot(h.times)\n",
    "plt.savefig(\"result/\"+model_name+\"/time_spent_per_epoch.png\")"
   ]
  },
  {
   "cell_type": "code",
   "execution_count": 58,
   "metadata": {},
   "outputs": [],
   "source": [
    "import pandas as pd\n",
    "pd.DataFrame(h.__dict__).to_csv(\"result/\"+model_name+\"/data.csv\")"
   ]
  },
  {
   "cell_type": "code",
   "execution_count": null,
   "metadata": {},
   "outputs": [],
   "source": []
  },
  {
   "cell_type": "code",
   "execution_count": null,
   "metadata": {},
   "outputs": [],
   "source": []
  }
 ],
 "metadata": {
  "kernelspec": {
   "display_name": ".venv",
   "language": "python",
   "name": "python3"
  },
  "language_info": {
   "codemirror_mode": {
    "name": "ipython",
    "version": 3
   },
   "file_extension": ".py",
   "mimetype": "text/x-python",
   "name": "python",
   "nbconvert_exporter": "python",
   "pygments_lexer": "ipython3",
   "version": "3.10.7"
  }
 },
 "nbformat": 4,
 "nbformat_minor": 2
}
